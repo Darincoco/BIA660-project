{
 "cells": [
  {
   "cell_type": "code",
   "execution_count": 35,
   "id": "4d230fbc",
   "metadata": {
    "ExecuteTime": {
     "end_time": "2021-12-06T03:40:14.197212Z",
     "start_time": "2021-12-06T03:40:14.186292Z"
    }
   },
   "outputs": [],
   "source": [
    "import os\n",
    "import csv\n",
    "from tqdm import tqdm\n",
    "import tweepy\n",
    "import pandas as pd\n",
    "import time\n",
    "from datetime import datetime\n",
    "import nltk\n",
    "\n",
    "\n",
    "CONSUMER_KEY='DfMnPVzPIRS1jyhwEEtIWVNYF'\n",
    "CONSUMER_SECRET='3YVosIbf8GBGahVCMfjHEVNRBUGb00CI5N4OVkzelwmM5jXVbn'\n",
    "ACCESS_KEY='1640818273-xsgeYxwxsz5T1FCrE1OhJnR6lvURfai1ija02DW'\n",
    "ACCESS_SECRET='DNISI77zYk4IN4znu29VcjkPLRKgSWsnXua1i3XjtPlaE'"
   ]
  },
  {
   "cell_type": "code",
   "execution_count": 37,
   "id": "d200080e",
   "metadata": {
    "ExecuteTime": {
     "end_time": "2021-12-06T03:40:27.337852Z",
     "start_time": "2021-12-06T03:40:27.317406Z"
    }
   },
   "outputs": [],
   "source": [
    "auth=tweepy.OAuthHandler(CONSUMER_KEY,CONSUMER_SECRET)\n",
    "auth.set_access_token(ACCESS_KEY,ACCESS_SECRET)"
   ]
  },
  {
   "cell_type": "code",
   "execution_count": 68,
   "id": "9cf1d7e9",
   "metadata": {
    "ExecuteTime": {
     "end_time": "2021-12-06T05:20:04.024572Z",
     "start_time": "2021-12-06T05:19:15.167305Z"
    },
    "scrolled": true
   },
   "outputs": [
    {
     "name": "stderr",
     "output_type": "stream",
     "text": [
      "100%|████████████████████████████████████████████████████████████████████████████████| 100/100 [00:15<00:00,  6.47it/s]\n",
      "100%|████████████████████████████████████████████████████████████████████████████████| 100/100 [00:15<00:00,  6.42it/s]\n",
      "100%|████████████████████████████████████████████████████████████████████████████████| 100/100 [00:16<00:00,  6.15it/s]\n"
     ]
    }
   ],
   "source": [
    "#DATABASE\n",
    "\n",
    "def get_tweets(feature_keywords, num_tweets=100, f_text=\"extended\", retweets=\"retweeted_status\"):\n",
    "\n",
    "    start_date = \"202111010900\" \n",
    "    end_date = \"202112010900\"  \n",
    "    api = tweepy.API(auth, wait_on_rate_limit=True)\n",
    "\n",
    "    fetch_feature_tweets = api.search_full_archive(label=\"darin\", query=feature_keywords, fromDate=start_date, \n",
    "                                                   toDate=end_date, maxResults=num_tweets) \n",
    "\n",
    "    all_feat_tweets = []\n",
    "    for ind, tweet in enumerate(tqdm(fetch_feature_tweets)):\n",
    "        status = api.get_status(tweet.id, tweet_mode=f_text)\n",
    "        if hasattr(status, retweets):\n",
    "            full_text = status.retweeted_status.full_text.encode(\"utf-8\").lower()\n",
    "            feat_tweets = [tweet.user.screen_name, full_text, tweet.retweeted_status.user.screen_name,\n",
    "                           tweet.entities['hashtags'], tweet.created_at, tweet.user.followers_count,\n",
    "                           tweet.user.friends_count, tweet.lang]\n",
    "            if tweet.lang == 'en':\n",
    "                all_feat_tweets.append(feat_tweets)\n",
    "        else:\n",
    "            full_text = status.full_text.encode(\"utf-8\").lower()\n",
    "            feat_tweets = [tweet.user.screen_name, full_text, \"no retweet username\", tweet.entities['hashtags'],\n",
    "                           tweet.created_at, tweet.user.followers_count, tweet.user.friends_count,tweet.lang]\n",
    "            if tweet.lang == 'en':\n",
    "                all_feat_tweets.append(feat_tweets)\n",
    "\n",
    "\n",
    "    path = os.getcwd()\n",
    "    filename = path + '/' + '2021vaccine.csv'\n",
    "\n",
    "    with open(filename, 'a') as firstcsv:\n",
    "        writer = csv.writer(firstcsv)\n",
    "        writer.writerow([\"username\", \"tweet\", \"username_of_retweeter\", \"hashtag\", \"tweet created\",\n",
    "                         \"number of followers\", \"# following\", \"language\"])\n",
    "        writer.writerows(all_feat_tweets)\n",
    "\n",
    "\n",
    "if __name__ == \"__main__\":\n",
    "    f_keywords_list = ['Pfizer', 'Pfizervaccine','Pfizer vaccine']\n",
    "    for f_keywords in f_keywords_list: \n",
    "        #PfizerBioNTech OR Pfizer OR Pfizervaccine OR PfizerProud OR PfizerBioN OR Pfizer vaccine\n",
    "        get_tweets(f_keywords)\n"
   ]
  },
  {
   "cell_type": "code",
   "execution_count": null,
   "id": "482adee0",
   "metadata": {},
   "outputs": [],
   "source": []
  }
 ],
 "metadata": {
  "kernelspec": {
   "display_name": "Python 3",
   "language": "python",
   "name": "python3"
  },
  "language_info": {
   "codemirror_mode": {
    "name": "ipython",
    "version": 3
   },
   "file_extension": ".py",
   "mimetype": "text/x-python",
   "name": "python",
   "nbconvert_exporter": "python",
   "pygments_lexer": "ipython3",
   "version": "3.8.8"
  }
 },
 "nbformat": 4,
 "nbformat_minor": 5
}
