{
 "cells": [
  {
   "cell_type": "code",
   "execution_count": 1,
   "id": "a25cfb2d",
   "metadata": {
    "ExecuteTime": {
     "end_time": "2021-12-06T22:15:35.263302Z",
     "start_time": "2021-12-06T22:15:33.970747Z"
    }
   },
   "outputs": [],
   "source": [
    "import pandas as pd\n",
    "from sklearn.feature_extraction.text import TfidfVectorizer\n",
    "from sklearn.naive_bayes import MultinomialNB\n",
    "from sklearn import svm\n",
    "from sklearn.metrics import precision_recall_fscore_support\n",
    "from sklearn.metrics import roc_curve, auc,precision_recall_curve\n",
    "from sklearn.metrics import classification_report\n",
    "from matplotlib import pyplot as plt\n",
    "from sklearn.pipeline import Pipeline\n",
    "from sklearn.model_selection import GridSearchCV\n",
    "from sklearn.datasets import make_classification\n",
    "\n",
    "df = pd.read_csv(\"cleaned_data.csv\")"
   ]
  },
  {
   "cell_type": "code",
   "execution_count": 2,
   "id": "e0664ac3",
   "metadata": {
    "ExecuteTime": {
     "end_time": "2021-12-06T22:15:49.767818Z",
     "start_time": "2021-12-06T22:15:49.748139Z"
    }
   },
   "outputs": [
    {
     "data": {
      "text/html": [
       "<div>\n",
       "<style scoped>\n",
       "    .dataframe tbody tr th:only-of-type {\n",
       "        vertical-align: middle;\n",
       "    }\n",
       "\n",
       "    .dataframe tbody tr th {\n",
       "        vertical-align: top;\n",
       "    }\n",
       "\n",
       "    .dataframe thead th {\n",
       "        text-align: right;\n",
       "    }\n",
       "</style>\n",
       "<table border=\"1\" class=\"dataframe\">\n",
       "  <thead>\n",
       "    <tr style=\"text-align: right;\">\n",
       "      <th></th>\n",
       "      <th>username</th>\n",
       "      <th>tweet</th>\n",
       "      <th>username_of_retweeter</th>\n",
       "      <th>hashtag</th>\n",
       "      <th>tweet created</th>\n",
       "      <th>number of followers</th>\n",
       "      <th># following</th>\n",
       "      <th>language</th>\n",
       "      <th>label</th>\n",
       "      <th>Polarity</th>\n",
       "      <th>Polarity_cat</th>\n",
       "      <th>len_tweet</th>\n",
       "      <th>word_count_tweet</th>\n",
       "      <th>label2</th>\n",
       "    </tr>\n",
       "  </thead>\n",
       "  <tbody>\n",
       "    <tr>\n",
       "      <th>0</th>\n",
       "      <td>reddsab</td>\n",
       "      <td>mine recorded got pfizer booster nurse said c...</td>\n",
       "      <td>no retweet username</td>\n",
       "      <td>[]</td>\n",
       "      <td>2021/12/1</td>\n",
       "      <td>666</td>\n",
       "      <td>1216</td>\n",
       "      <td>en</td>\n",
       "      <td>NaN</td>\n",
       "      <td>0.250000</td>\n",
       "      <td>Positive</td>\n",
       "      <td>64</td>\n",
       "      <td>11</td>\n",
       "      <td>UL</td>\n",
       "    </tr>\n",
       "    <tr>\n",
       "      <th>1</th>\n",
       "      <td>bobstpier1</td>\n",
       "      <td>breaking document dump pfizer data scandal or...</td>\n",
       "      <td>maajidnawaz</td>\n",
       "      <td>[]</td>\n",
       "      <td>2021/12/1</td>\n",
       "      <td>1964</td>\n",
       "      <td>2028</td>\n",
       "      <td>en</td>\n",
       "      <td>NaN</td>\n",
       "      <td>0.125000</td>\n",
       "      <td>Positive</td>\n",
       "      <td>113</td>\n",
       "      <td>16</td>\n",
       "      <td>UL</td>\n",
       "    </tr>\n",
       "    <tr>\n",
       "      <th>2</th>\n",
       "      <td>samlowry60</td>\n",
       "      <td>good preliminary news n n vaccine slightly le...</td>\n",
       "      <td>matthewlesh</td>\n",
       "      <td>[]</td>\n",
       "      <td>2021/12/1</td>\n",
       "      <td>902</td>\n",
       "      <td>1982</td>\n",
       "      <td>en</td>\n",
       "      <td>NaN</td>\n",
       "      <td>0.280000</td>\n",
       "      <td>Positive</td>\n",
       "      <td>154</td>\n",
       "      <td>21</td>\n",
       "      <td>UL</td>\n",
       "    </tr>\n",
       "    <tr>\n",
       "      <th>3</th>\n",
       "      <td>key2middleeast</td>\n",
       "      <td>pfizer vaccine likely offer strong protection...</td>\n",
       "      <td>skynews</td>\n",
       "      <td>[]</td>\n",
       "      <td>2021/12/1</td>\n",
       "      <td>1077</td>\n",
       "      <td>5002</td>\n",
       "      <td>en</td>\n",
       "      <td>NaN</td>\n",
       "      <td>0.189899</td>\n",
       "      <td>Positive</td>\n",
       "      <td>130</td>\n",
       "      <td>19</td>\n",
       "      <td>UL</td>\n",
       "    </tr>\n",
       "    <tr>\n",
       "      <th>4</th>\n",
       "      <td>kk002188</td>\n",
       "      <td>correct sa getting framed days earlier sa ask...</td>\n",
       "      <td>skynews</td>\n",
       "      <td>[]</td>\n",
       "      <td>2021/12/1</td>\n",
       "      <td>11</td>\n",
       "      <td>113</td>\n",
       "      <td>en</td>\n",
       "      <td>NaN</td>\n",
       "      <td>0.068182</td>\n",
       "      <td>Positive</td>\n",
       "      <td>128</td>\n",
       "      <td>22</td>\n",
       "      <td>UL</td>\n",
       "    </tr>\n",
       "  </tbody>\n",
       "</table>\n",
       "</div>"
      ],
      "text/plain": [
       "         username                                              tweet  \\\n",
       "0         reddsab   mine recorded got pfizer booster nurse said c...   \n",
       "1      bobstpier1   breaking document dump pfizer data scandal or...   \n",
       "2      samlowry60   good preliminary news n n vaccine slightly le...   \n",
       "3  key2middleeast   pfizer vaccine likely offer strong protection...   \n",
       "4        kk002188   correct sa getting framed days earlier sa ask...   \n",
       "\n",
       "  username_of_retweeter hashtag tweet created  number of followers  \\\n",
       "0   no retweet username      []     2021/12/1                  666   \n",
       "1           maajidnawaz      []     2021/12/1                 1964   \n",
       "2           matthewlesh      []     2021/12/1                  902   \n",
       "3               skynews      []     2021/12/1                 1077   \n",
       "4               skynews      []     2021/12/1                   11   \n",
       "\n",
       "   # following language  label  Polarity Polarity_cat  len_tweet  \\\n",
       "0         1216       en    NaN  0.250000     Positive         64   \n",
       "1         2028       en    NaN  0.125000     Positive        113   \n",
       "2         1982       en    NaN  0.280000     Positive        154   \n",
       "3         5002       en    NaN  0.189899     Positive        130   \n",
       "4          113       en    NaN  0.068182     Positive        128   \n",
       "\n",
       "   word_count_tweet label2  \n",
       "0                11     UL  \n",
       "1                16     UL  \n",
       "2                21     UL  \n",
       "3                19     UL  \n",
       "4                22     UL  "
      ]
     },
     "execution_count": 2,
     "metadata": {},
     "output_type": "execute_result"
    }
   ],
   "source": [
    "df.head()"
   ]
  },
  {
   "cell_type": "code",
   "execution_count": 11,
   "id": "e53e9626",
   "metadata": {
    "ExecuteTime": {
     "end_time": "2021-12-06T22:18:14.833715Z",
     "start_time": "2021-12-06T22:18:14.823700Z"
    }
   },
   "outputs": [
    {
     "data": {
      "text/plain": [
       "array(['2021/12/1', '2021/11/30', '2021/11/29', '2021/11/28',\n",
       "       '2021/11/27', '2021/2/1', '2021/1/31', '2021/3/1', '2021/2/28',\n",
       "       '2021/4/1', '2021/5/1', '2021/4/30', '2021/6/1', '2021/7/1',\n",
       "       '2021/8/1', '2021/9/1', '2021/8/31', '2021/10/1', '2021/9/30',\n",
       "       '2021/9/29', '2021/11/1'], dtype=object)"
      ]
     },
     "execution_count": 11,
     "metadata": {},
     "output_type": "execute_result"
    }
   ],
   "source": [
    "timeline = df['tweet created'].unique()\n",
    "timeline"
   ]
  },
  {
   "cell_type": "code",
   "execution_count": 12,
   "id": "cc33c274",
   "metadata": {
    "ExecuteTime": {
     "end_time": "2021-12-06T22:19:06.892932Z",
     "start_time": "2021-12-06T22:19:06.887348Z"
    },
    "scrolled": true
   },
   "outputs": [
    {
     "data": {
      "text/plain": [
       "['2021/1/31',\n",
       " '2021/10/1',\n",
       " '2021/11/1',\n",
       " '2021/11/27',\n",
       " '2021/11/28',\n",
       " '2021/11/29',\n",
       " '2021/11/30',\n",
       " '2021/12/1',\n",
       " '2021/2/1',\n",
       " '2021/2/28',\n",
       " '2021/3/1',\n",
       " '2021/4/1',\n",
       " '2021/4/30',\n",
       " '2021/5/1',\n",
       " '2021/6/1',\n",
       " '2021/7/1',\n",
       " '2021/8/1',\n",
       " '2021/8/31',\n",
       " '2021/9/1',\n",
       " '2021/9/29',\n",
       " '2021/9/30']"
      ]
     },
     "execution_count": 12,
     "metadata": {},
     "output_type": "execute_result"
    }
   ],
   "source": [
    "timeline_sorted = sorted (timeline)\n",
    "timeline_sorted"
   ]
  },
  {
   "cell_type": "code",
   "execution_count": 28,
   "id": "d9ea15bc",
   "metadata": {
    "ExecuteTime": {
     "end_time": "2021-12-06T22:26:24.813046Z",
     "start_time": "2021-12-06T22:26:24.800081Z"
    }
   },
   "outputs": [
    {
     "data": {
      "text/plain": [
       "21"
      ]
     },
     "execution_count": 28,
     "metadata": {},
     "output_type": "execute_result"
    }
   ],
   "source": [
    "len(timeline_sorted)"
   ]
  },
  {
   "cell_type": "code",
   "execution_count": 15,
   "id": "dc554610",
   "metadata": {
    "ExecuteTime": {
     "end_time": "2021-12-06T22:20:56.714224Z",
     "start_time": "2021-12-06T22:20:56.702245Z"
    }
   },
   "outputs": [],
   "source": [
    "Jan = df[df['tweet created'] == timeline_sorted[0]]['Polarity'].mean()"
   ]
  },
  {
   "cell_type": "code",
   "execution_count": 21,
   "id": "e59ec8a8",
   "metadata": {
    "ExecuteTime": {
     "end_time": "2021-12-06T22:23:55.976499Z",
     "start_time": "2021-12-06T22:23:55.966123Z"
    }
   },
   "outputs": [],
   "source": [
    "Feb = df[df['tweet created'] == (timeline_sorted[8] or timeline_sorted[9])]['Polarity'].mean()"
   ]
  },
  {
   "cell_type": "code",
   "execution_count": 22,
   "id": "e10b2527",
   "metadata": {
    "ExecuteTime": {
     "end_time": "2021-12-06T22:24:26.066232Z",
     "start_time": "2021-12-06T22:24:26.057681Z"
    }
   },
   "outputs": [],
   "source": [
    "Mar = df[df['tweet created'] == timeline_sorted[10]]['Polarity'].mean()"
   ]
  },
  {
   "cell_type": "code",
   "execution_count": 23,
   "id": "efd9c652",
   "metadata": {
    "ExecuteTime": {
     "end_time": "2021-12-06T22:25:03.375448Z",
     "start_time": "2021-12-06T22:25:03.360968Z"
    }
   },
   "outputs": [],
   "source": [
    "Apr = df[df['tweet created'] == (timeline_sorted[11] or timeline_sorted[12])]['Polarity'].mean()"
   ]
  },
  {
   "cell_type": "code",
   "execution_count": 24,
   "id": "6ff22c1b",
   "metadata": {
    "ExecuteTime": {
     "end_time": "2021-12-06T22:25:36.514981Z",
     "start_time": "2021-12-06T22:25:36.495958Z"
    }
   },
   "outputs": [],
   "source": [
    "May = df[df['tweet created'] == timeline_sorted[13]]['Polarity'].mean()"
   ]
  },
  {
   "cell_type": "code",
   "execution_count": 25,
   "id": "0a47482e",
   "metadata": {
    "ExecuteTime": {
     "end_time": "2021-12-06T22:25:47.866736Z",
     "start_time": "2021-12-06T22:25:47.847630Z"
    }
   },
   "outputs": [],
   "source": [
    "Jun = df[df['tweet created'] == timeline_sorted[14]]['Polarity'].mean()"
   ]
  },
  {
   "cell_type": "code",
   "execution_count": 26,
   "id": "4ae47ae5",
   "metadata": {
    "ExecuteTime": {
     "end_time": "2021-12-06T22:25:57.162493Z",
     "start_time": "2021-12-06T22:25:57.148791Z"
    }
   },
   "outputs": [],
   "source": [
    "Jul = df[df['tweet created'] == timeline_sorted[15]]['Polarity'].mean()"
   ]
  },
  {
   "cell_type": "code",
   "execution_count": 27,
   "id": "3edae1ac",
   "metadata": {
    "ExecuteTime": {
     "end_time": "2021-12-06T22:26:14.045357Z",
     "start_time": "2021-12-06T22:26:14.033421Z"
    }
   },
   "outputs": [],
   "source": [
    "Aug = df[df['tweet created'] == (timeline_sorted[16] or timeline_sorted[17])]['Polarity'].mean()"
   ]
  },
  {
   "cell_type": "code",
   "execution_count": 29,
   "id": "7077cf49",
   "metadata": {
    "ExecuteTime": {
     "end_time": "2021-12-06T22:26:54.719030Z",
     "start_time": "2021-12-06T22:26:54.711544Z"
    }
   },
   "outputs": [],
   "source": [
    "Sep = df[df['tweet created'] == (timeline_sorted[18] or timeline_sorted[19] or timeline_sorted[20])]['Polarity'].mean()"
   ]
  },
  {
   "cell_type": "code",
   "execution_count": 30,
   "id": "a64ac27b",
   "metadata": {
    "ExecuteTime": {
     "end_time": "2021-12-06T22:27:15.453021Z",
     "start_time": "2021-12-06T22:27:15.449033Z"
    }
   },
   "outputs": [],
   "source": [
    "Oct = df[df['tweet created'] == timeline_sorted[1]]['Polarity'].mean()"
   ]
  },
  {
   "cell_type": "code",
   "execution_count": 31,
   "id": "564f7570",
   "metadata": {
    "ExecuteTime": {
     "end_time": "2021-12-06T22:27:56.825645Z",
     "start_time": "2021-12-06T22:27:56.810145Z"
    }
   },
   "outputs": [],
   "source": [
    "Nov = df[df['tweet created'] == (timeline_sorted[2] or timeline_sorted[3] or timeline_sorted[4]\n",
    "                                or timeline_sorted[5] or timeline_sorted[6])]['Polarity'].mean()"
   ]
  },
  {
   "cell_type": "code",
   "execution_count": 32,
   "id": "4257740f",
   "metadata": {
    "ExecuteTime": {
     "end_time": "2021-12-06T22:28:06.490558Z",
     "start_time": "2021-12-06T22:28:06.485572Z"
    }
   },
   "outputs": [],
   "source": [
    "Dec = df[df['tweet created'] == timeline_sorted[7]]['Polarity'].mean()"
   ]
  },
  {
   "cell_type": "code",
   "execution_count": 33,
   "id": "97b2cd67",
   "metadata": {
    "ExecuteTime": {
     "end_time": "2021-12-06T22:31:11.372049Z",
     "start_time": "2021-12-06T22:31:11.355773Z"
    }
   },
   "outputs": [],
   "source": [
    "polar_df = pd.DataFrame(data=\n",
    "                        {'Month': [1, 2, 3, 4, 5, 6, 7, 8, 9, 10, 11, 12], \n",
    "                         'Polar': [Jan, Feb, Mar, Apr, May, Jun, Jul, Aug, Sep, Oct, Nov, Dec]})"
   ]
  },
  {
   "cell_type": "code",
   "execution_count": 34,
   "id": "96d49ece",
   "metadata": {
    "ExecuteTime": {
     "end_time": "2021-12-06T22:31:14.095338Z",
     "start_time": "2021-12-06T22:31:14.083792Z"
    }
   },
   "outputs": [
    {
     "data": {
      "text/html": [
       "<div>\n",
       "<style scoped>\n",
       "    .dataframe tbody tr th:only-of-type {\n",
       "        vertical-align: middle;\n",
       "    }\n",
       "\n",
       "    .dataframe tbody tr th {\n",
       "        vertical-align: top;\n",
       "    }\n",
       "\n",
       "    .dataframe thead th {\n",
       "        text-align: right;\n",
       "    }\n",
       "</style>\n",
       "<table border=\"1\" class=\"dataframe\">\n",
       "  <thead>\n",
       "    <tr style=\"text-align: right;\">\n",
       "      <th></th>\n",
       "      <th>Month</th>\n",
       "      <th>Polar</th>\n",
       "    </tr>\n",
       "  </thead>\n",
       "  <tbody>\n",
       "    <tr>\n",
       "      <th>0</th>\n",
       "      <td>1</td>\n",
       "      <td>0.092311</td>\n",
       "    </tr>\n",
       "    <tr>\n",
       "      <th>1</th>\n",
       "      <td>2</td>\n",
       "      <td>0.141872</td>\n",
       "    </tr>\n",
       "    <tr>\n",
       "      <th>2</th>\n",
       "      <td>3</td>\n",
       "      <td>0.064403</td>\n",
       "    </tr>\n",
       "    <tr>\n",
       "      <th>3</th>\n",
       "      <td>4</td>\n",
       "      <td>0.166530</td>\n",
       "    </tr>\n",
       "    <tr>\n",
       "      <th>4</th>\n",
       "      <td>5</td>\n",
       "      <td>0.026486</td>\n",
       "    </tr>\n",
       "    <tr>\n",
       "      <th>5</th>\n",
       "      <td>6</td>\n",
       "      <td>0.137565</td>\n",
       "    </tr>\n",
       "    <tr>\n",
       "      <th>6</th>\n",
       "      <td>7</td>\n",
       "      <td>0.039156</td>\n",
       "    </tr>\n",
       "    <tr>\n",
       "      <th>7</th>\n",
       "      <td>8</td>\n",
       "      <td>0.135369</td>\n",
       "    </tr>\n",
       "    <tr>\n",
       "      <th>8</th>\n",
       "      <td>9</td>\n",
       "      <td>0.095670</td>\n",
       "    </tr>\n",
       "    <tr>\n",
       "      <th>9</th>\n",
       "      <td>10</td>\n",
       "      <td>0.054305</td>\n",
       "    </tr>\n",
       "    <tr>\n",
       "      <th>10</th>\n",
       "      <td>11</td>\n",
       "      <td>0.080800</td>\n",
       "    </tr>\n",
       "    <tr>\n",
       "      <th>11</th>\n",
       "      <td>12</td>\n",
       "      <td>0.093548</td>\n",
       "    </tr>\n",
       "  </tbody>\n",
       "</table>\n",
       "</div>"
      ],
      "text/plain": [
       "    Month     Polar\n",
       "0       1  0.092311\n",
       "1       2  0.141872\n",
       "2       3  0.064403\n",
       "3       4  0.166530\n",
       "4       5  0.026486\n",
       "5       6  0.137565\n",
       "6       7  0.039156\n",
       "7       8  0.135369\n",
       "8       9  0.095670\n",
       "9      10  0.054305\n",
       "10     11  0.080800\n",
       "11     12  0.093548"
      ]
     },
     "execution_count": 34,
     "metadata": {},
     "output_type": "execute_result"
    }
   ],
   "source": [
    "polar_df"
   ]
  },
  {
   "cell_type": "code",
   "execution_count": 36,
   "id": "4040c788",
   "metadata": {
    "ExecuteTime": {
     "end_time": "2021-12-06T22:32:33.789834Z",
     "start_time": "2021-12-06T22:32:33.772026Z"
    }
   },
   "outputs": [],
   "source": [
    "polar_df.to_csv('polar_score.csv')"
   ]
  },
  {
   "cell_type": "code",
   "execution_count": null,
   "id": "396167a0",
   "metadata": {},
   "outputs": [],
   "source": []
  }
 ],
 "metadata": {
  "kernelspec": {
   "display_name": "Python 3",
   "language": "python",
   "name": "python3"
  },
  "language_info": {
   "codemirror_mode": {
    "name": "ipython",
    "version": 3
   },
   "file_extension": ".py",
   "mimetype": "text/x-python",
   "name": "python",
   "nbconvert_exporter": "python",
   "pygments_lexer": "ipython3",
   "version": "3.8.8"
  }
 },
 "nbformat": 4,
 "nbformat_minor": 5
}
