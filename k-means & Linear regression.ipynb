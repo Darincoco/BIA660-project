{
 "cells": [
  {
   "cell_type": "code",
   "execution_count": 1,
   "id": "bd7dbc57",
   "metadata": {
    "ExecuteTime": {
     "end_time": "2021-12-11T01:53:26.620545Z",
     "start_time": "2021-12-11T01:53:21.787070Z"
    }
   },
   "outputs": [],
   "source": [
    "import numpy as np\n",
    "import pandas as pd\n",
    "from collections import Counter\n",
    "#C=Counter(test_label)\n",
    "from sklearn.feature_extraction.text import TfidfVectorizer\n",
    "from sklearn import metrics\n",
    "from nltk.corpus import stopwords\n",
    "from nltk.cluster import KMeansClusterer, cosine_distance, euclidean_distance\n",
    "from sklearn import metrics\n",
    "from matplotlib import pyplot as plt"
   ]
  },
  {
   "cell_type": "code",
   "execution_count": 3,
   "id": "cd5a4188",
   "metadata": {
    "ExecuteTime": {
     "end_time": "2021-12-11T01:53:36.936246Z",
     "start_time": "2021-12-11T01:53:36.647945Z"
    }
   },
   "outputs": [],
   "source": [
    "train = pd.read_csv(\"cleaned_data.csv\")\n",
    "for i in range(2072):\n",
    "    if train[\"tweet\"].isnull()[i] == True:\n",
    "        print(i)"
   ]
  },
  {
   "cell_type": "code",
   "execution_count": 4,
   "id": "077f067a",
   "metadata": {
    "ExecuteTime": {
     "end_time": "2021-12-11T01:53:42.608374Z",
     "start_time": "2021-12-11T01:53:42.599648Z"
    }
   },
   "outputs": [],
   "source": [
    "# Clean data\n",
    "train_text=train[\"tweet\"]\n",
    "train_text.dropna(axis=0, how='any', inplace=True)\n",
    "train_text.reset_index(drop=True, inplace=True)"
   ]
  },
  {
   "cell_type": "code",
   "execution_count": 5,
   "id": "7e911e46",
   "metadata": {
    "ExecuteTime": {
     "end_time": "2021-12-11T01:53:43.498070Z",
     "start_time": "2021-12-11T01:53:43.471473Z"
    }
   },
   "outputs": [],
   "source": [
    "train_y=train['Polarity_cat'].drop(index=[1372, 1455])\n",
    "train_y.reset_index(drop=True, inplace=True)"
   ]
  },
  {
   "cell_type": "markdown",
   "id": "17e26560",
   "metadata": {},
   "source": [
    "# Calculate tfidf"
   ]
  },
  {
   "cell_type": "code",
   "execution_count": 6,
   "id": "899d5392",
   "metadata": {
    "ExecuteTime": {
     "end_time": "2021-12-11T01:53:44.788757Z",
     "start_time": "2021-12-11T01:53:44.670917Z"
    }
   },
   "outputs": [
    {
     "name": "stdout",
     "output_type": "stream",
     "text": [
      "(2072, 6306)\n"
     ]
    }
   ],
   "source": [
    "my_stopwords = set(stopwords.words('english'))\n",
    "my_stopwords.update(['pfizer','pfizervaccine','vaccine'])\n",
    "#tfidf_vect = TfidfVectorizer(stop_words=my_stopwords,min_df=1)\n",
    "tfidf_vect = TfidfVectorizer(stop_words=my_stopwords,min_df=3,ngram_range=(1,3))\n",
    "dtm= tfidf_vect.fit_transform(train_text)\n",
    "print (dtm.shape)"
   ]
  },
  {
   "cell_type": "markdown",
   "id": "b88fc72f",
   "metadata": {},
   "source": [
    "# 2 Cluster"
   ]
  },
  {
   "cell_type": "code",
   "execution_count": 8,
   "id": "a161ad06",
   "metadata": {
    "ExecuteTime": {
     "end_time": "2021-12-11T01:54:51.641629Z",
     "start_time": "2021-12-11T01:53:55.325160Z"
    }
   },
   "outputs": [],
   "source": [
    "#Cluster by 2 classes\n",
    "num_clusters=2\n",
    "clusterer_2 = KMeansClusterer(num_clusters, cosine_distance, repeats=50)\n",
    "#clusterer_2 = KMeansClusterer(num_clusters, euclidean_distance, repeats=30)\n",
    "clusters_2 = clusterer_2.cluster(dtm.toarray(), assign_clusters=True)"
   ]
  },
  {
   "cell_type": "code",
   "execution_count": 9,
   "id": "ad23e6c7",
   "metadata": {
    "ExecuteTime": {
     "end_time": "2021-12-11T01:54:51.656716Z",
     "start_time": "2021-12-11T01:54:51.643613Z"
    }
   },
   "outputs": [
    {
     "name": "stdout",
     "output_type": "stream",
     "text": [
      "Cluster 0:\n",
      " covid; dose; get; amp; first; got; vaccines; moderna; biontech; doses; one; vaccinated; people; second; vaccination; today; covidvaccine; astrazeneca; says; effective; new; jab; fda; getting; done; like; children; shot; week; first dose; received; news; india; az; day; eu; us; weeks; coronavirus; need; year; fully; mrna; second dose; health; data; study; know; real; take \n",
      "Cluster 1:\n",
      " old; yrs; yrs old; yrs old yrs; old yrs old; old yrs; died; trovan; august; year; second; year old; amp; kids; vaccines; drug; gravely; gravely injured died; gravely injured; injured died; injured; stage; pfecolleague; pfizerproud; oct; still; consent; claimed; suffered; consent children; consent children claimed; drugmaker tested; claimed trovan; claimed trovan kids; clinical stage; clinical stage development; drugmaker tested without; development drugmaker; development drugmaker tested; without parents consent; parents consent; children claimed trovan; trovan kids; children claimed; still clinical stage; still clinical; kids gravely injured; stage development drugmaker; tested without parents; stage development \n"
     ]
    }
   ],
   "source": [
    "centroids=np.array(clusterer_2.means())\n",
    "sorted_centroids = centroids.argsort()[:, ::-1]\n",
    "voc_lookup= tfidf_vect.get_feature_names()\n",
    "for i in range(num_clusters):\n",
    "    \n",
    "    # get words with top 20 tf-idf weight in the centroid\n",
    "    top_words=[voc_lookup[word_index] \\\n",
    "               for word_index in sorted_centroids[i, :50]]\n",
    "    print(\"Cluster %d:\\n %s \" % (i, \"; \".join(top_words)))"
   ]
  },
  {
   "cell_type": "markdown",
   "id": "29788454",
   "metadata": {},
   "source": [
    "# 3 Cluster"
   ]
  },
  {
   "cell_type": "code",
   "execution_count": 11,
   "id": "7a71e235",
   "metadata": {
    "ExecuteTime": {
     "end_time": "2021-12-11T01:56:45.835912Z",
     "start_time": "2021-12-11T01:55:28.162336Z"
    }
   },
   "outputs": [],
   "source": [
    "#Cluster by 3 classes\n",
    "num_clusters=3\n",
    "clusterer_3 = KMeansClusterer(num_clusters, cosine_distance, repeats=50)\n",
    "#clusterer_3 = KMeansClusterer(num_clusters, euclidean_distance, repeats=30)\n",
    "clusters_3 = clusterer_3.cluster(dtm.toarray(), assign_clusters=True)"
   ]
  },
  {
   "cell_type": "code",
   "execution_count": 12,
   "id": "3de5f606",
   "metadata": {
    "ExecuteTime": {
     "end_time": "2021-12-11T01:56:45.866492Z",
     "start_time": "2021-12-11T01:56:45.837897Z"
    }
   },
   "outputs": [
    {
     "name": "stdout",
     "output_type": "stream",
     "text": [
      "Cluster 0:\n",
      " covid; dose; got; doses; first; get; biontech; second; fda; vaccinated; vaccination; today; says; coronavirus; eu; done; people; moderna; shot; effective; jab; week; second dose; covidvaccine; new; first dose; weeks; children; news; fully; study; one; side; received; getting; az; health; year; like; million; via; may; got first; could; effects; amp; uk; variant; day; side effects \n",
      "Cluster 1:\n",
      " vaccines; amp; india; moderna; astrazeneca; one; data; covid; pfizerproud; pfecolleague; modernavaccine; take; effective; transmission; people; best; made; trial; us; make; like; go; mrna; know; get; delta; covid vaccines; omicron; sputnik; preventing; pfizerproud pfecolleague; come; efficacy; astrazenecavaccine; company; scientists; program; good; use; covidvaccine; sinovac; going; also; delta alpha; alpha; new; booster; bhagat; npfizer; future \n",
      "Cluster 2:\n",
      " old; yrs old; yrs; old yrs; old yrs old; yrs old yrs; died; trovan; year; august; year old; second; day; gravely injured died; injured died; gravely injured; gravely; injured; claimed; kids; oct; still; without; suffered; development drugmaker tested; development drugmaker; trovan still; drugmaker tested without; trovan kids gravely; drugmaker tested; drug trovan still; drug trovan; parents consent children; consent children claimed; trovan kids; clinical stage development; clinical stage; claimed trovan kids; claimed trovan; parents consent; children claimed trovan; children claimed; consent children; trovan still clinical; kids gravely injured; kids gravely; stage development; without parents consent; still clinical; stage development drugmaker \n"
     ]
    }
   ],
   "source": [
    "centroids=np.array(clusterer_3.means())\n",
    "sorted_centroids = centroids.argsort()[:, ::-1]\n",
    "voc_lookup= tfidf_vect.get_feature_names()\n",
    "for i in range(num_clusters):\n",
    "    \n",
    "    # get words with top 20 tf-idf weight in the centroid\n",
    "    top_words=[voc_lookup[word_index] \\\n",
    "               for word_index in sorted_centroids[i, :50]]\n",
    "    print(\"Cluster %d:\\n %s \" % (i, \"; \".join(top_words)))"
   ]
  },
  {
   "cell_type": "markdown",
   "id": "a95651d1",
   "metadata": {},
   "source": [
    "# 3 Cluster & Polarity score"
   ]
  },
  {
   "cell_type": "code",
   "execution_count": 13,
   "id": "c35a1ebc",
   "metadata": {
    "ExecuteTime": {
     "end_time": "2021-12-11T01:58:05.956113Z",
     "start_time": "2021-12-11T01:58:05.932756Z"
    }
   },
   "outputs": [],
   "source": [
    "df1=pd.concat([train_text, train_y], axis=1)\n",
    "df1_train_0 = df1.sample(frac=0.8,random_state=0,axis=0)\n",
    "df_train = df1[df1.index.isin(df1_train_0.index)]      #80% for training\n",
    "df_test = df1[~df1.index.isin(df1_train_0.index)]  "
   ]
  },
  {
   "cell_type": "code",
   "execution_count": 14,
   "id": "44aabe25",
   "metadata": {
    "ExecuteTime": {
     "end_time": "2021-12-11T01:58:06.329538Z",
     "start_time": "2021-12-11T01:58:06.312830Z"
    }
   },
   "outputs": [],
   "source": [
    "train_text = df_train['tweet']\n",
    "train_label = df_train['Polarity_cat']\n",
    "test_text = df_test['tweet']\n",
    "test_label = df_test['Polarity_cat']"
   ]
  },
  {
   "cell_type": "code",
   "execution_count": 15,
   "id": "cd7687df",
   "metadata": {
    "ExecuteTime": {
     "end_time": "2021-12-11T01:58:06.885126Z",
     "start_time": "2021-12-11T01:58:06.782328Z"
    }
   },
   "outputs": [
    {
     "name": "stdout",
     "output_type": "stream",
     "text": [
      "(1658, 5233)\n"
     ]
    }
   ],
   "source": [
    "my_stopwords = set(stopwords.words('english'))\n",
    "my_stopwords.update(['pfizer','pfizervaccine','vaccine'])\n",
    "#tfidf_vect = TfidfVectorizer(stop_words=my_stopwords,min_df=1)\n",
    "tfidf_vect = TfidfVectorizer(stop_words=my_stopwords,min_df=3,ngram_range=(1,3))\n",
    "dtm_train= tfidf_vect.fit_transform(train_text)\n",
    "print (dtm_train.shape)"
   ]
  },
  {
   "cell_type": "code",
   "execution_count": 16,
   "id": "54fc3995",
   "metadata": {
    "ExecuteTime": {
     "end_time": "2021-12-11T01:58:40.819232Z",
     "start_time": "2021-12-11T01:58:07.265745Z"
    }
   },
   "outputs": [],
   "source": [
    "num_clusters=3\n",
    "clusterer = KMeansClusterer(num_clusters, cosine_distance, avoid_empty_clusters=True, repeats=30)\n",
    "#clusterer = KMeansClusterer(num_clusters, euclidean_distance, repeats=30)\n",
    "clusters = clusterer.cluster(dtm_train.toarray(), assign_clusters=True)"
   ]
  },
  {
   "cell_type": "code",
   "execution_count": 17,
   "id": "5145b8a8",
   "metadata": {
    "ExecuteTime": {
     "end_time": "2021-12-11T01:58:40.835040Z",
     "start_time": "2021-12-11T01:58:40.821218Z"
    }
   },
   "outputs": [
    {
     "name": "stdout",
     "output_type": "stream",
     "text": [
      "Cluster 0:\n",
      " dose; got; get; first; second; one; moderna; today; vaccinated; first dose; mrna; people; second dose; fully; shot; done; like; go; everyone; az; vaccination; got first; finally; getting; immunity \n",
      "Cluster 1:\n",
      " covid; amp; biontech; doses; vaccines; effective; news; coronavirus; astrazeneca; study; eu; says; new; children; data; moderna; week; people; uk; omicron; delta; covidvaccine; vaccination; trial; via \n",
      "Cluster 2:\n",
      " old; yrs old; yrs; old yrs old; old yrs; yrs old yrs; died; trovan; august; year; year old; second; pfecolleague; pfizerproud; oct; day; claimed; get; drug; gravely; gravely injured died; gravely injured; injured died; injured; suffered \n"
     ]
    }
   ],
   "source": [
    "centroids=np.array(clusterer.means())\n",
    "sorted_centroids = centroids.argsort()[:, ::-1]\n",
    "voc_lookup= tfidf_vect.get_feature_names()\n",
    "for i in range(num_clusters):\n",
    "    \n",
    "    # get words with top 20 tf-idf weight in the centroid\n",
    "    top_words=[voc_lookup[word_index] \\\n",
    "               for word_index in sorted_centroids[i, :25]]\n",
    "    print(\"Cluster %d:\\n %s \" % (i, \"; \".join(top_words)))"
   ]
  },
  {
   "cell_type": "code",
   "execution_count": 18,
   "id": "eb7ad87e",
   "metadata": {
    "ExecuteTime": {
     "end_time": "2021-12-11T01:58:40.896763Z",
     "start_time": "2021-12-11T01:58:40.838016Z"
    }
   },
   "outputs": [
    {
     "data": {
      "text/plain": [
       "[1, 0, 1, 1, 2, 0, 0, 1, 0, 2]"
      ]
     },
     "execution_count": 18,
     "metadata": {},
     "output_type": "execute_result"
    }
   ],
   "source": [
    "test_dtm = tfidf_vect.transform(test_text)\n",
    "predicted = [clusterer.classify(v) for v in test_dtm.toarray()]\n",
    "predicted[0:10]"
   ]
  },
  {
   "cell_type": "code",
   "execution_count": 19,
   "id": "7f6589c0",
   "metadata": {
    "ExecuteTime": {
     "end_time": "2021-12-11T01:58:40.943120Z",
     "start_time": "2021-12-11T01:58:40.898755Z"
    }
   },
   "outputs": [
    {
     "data": {
      "text/html": [
       "<div>\n",
       "<style scoped>\n",
       "    .dataframe tbody tr th:only-of-type {\n",
       "        vertical-align: middle;\n",
       "    }\n",
       "\n",
       "    .dataframe tbody tr th {\n",
       "        vertical-align: top;\n",
       "    }\n",
       "\n",
       "    .dataframe thead th {\n",
       "        text-align: right;\n",
       "    }\n",
       "</style>\n",
       "<table border=\"1\" class=\"dataframe\">\n",
       "  <thead>\n",
       "    <tr style=\"text-align: right;\">\n",
       "      <th>label</th>\n",
       "      <th>Negative</th>\n",
       "      <th>Neutral</th>\n",
       "      <th>Positive</th>\n",
       "    </tr>\n",
       "    <tr>\n",
       "      <th>cluster</th>\n",
       "      <th></th>\n",
       "      <th></th>\n",
       "      <th></th>\n",
       "    </tr>\n",
       "  </thead>\n",
       "  <tbody>\n",
       "    <tr>\n",
       "      <th>0</th>\n",
       "      <td>16</td>\n",
       "      <td>38</td>\n",
       "      <td>64</td>\n",
       "    </tr>\n",
       "    <tr>\n",
       "      <th>1</th>\n",
       "      <td>27</td>\n",
       "      <td>61</td>\n",
       "      <td>86</td>\n",
       "    </tr>\n",
       "    <tr>\n",
       "      <th>2</th>\n",
       "      <td>28</td>\n",
       "      <td>35</td>\n",
       "      <td>59</td>\n",
       "    </tr>\n",
       "  </tbody>\n",
       "</table>\n",
       "</div>"
      ],
      "text/plain": [
       "label    Negative  Neutral  Positive\n",
       "cluster                             \n",
       "0              16       38        64\n",
       "1              27       61        86\n",
       "2              28       35        59"
      ]
     },
     "execution_count": 19,
     "metadata": {},
     "output_type": "execute_result"
    }
   ],
   "source": [
    "confusion_df = pd.DataFrame(list(zip(test_label.values, predicted)),\\\n",
    "                            columns = [\"label\", \"cluster\"])\n",
    "#confusion_df.head()\n",
    "cluster_crosstab = pd.crosstab(index=confusion_df.cluster, columns=confusion_df.label)\n",
    "cluster_crosstab"
   ]
  },
  {
   "cell_type": "code",
   "execution_count": 20,
   "id": "727784b8",
   "metadata": {
    "ExecuteTime": {
     "end_time": "2021-12-11T01:58:40.958952Z",
     "start_time": "2021-12-11T01:58:40.944112Z"
    }
   },
   "outputs": [
    {
     "data": {
      "text/plain": [
       "'Positive'"
      ]
     },
     "execution_count": 20,
     "metadata": {},
     "output_type": "execute_result"
    }
   ],
   "source": [
    "cluster_crosstab.idxmax(axis = 1)[2]"
   ]
  },
  {
   "cell_type": "code",
   "execution_count": 21,
   "id": "28f85d2e",
   "metadata": {
    "ExecuteTime": {
     "end_time": "2021-12-11T01:58:40.973806Z",
     "start_time": "2021-12-11T01:58:40.959917Z"
    }
   },
   "outputs": [
    {
     "name": "stdout",
     "output_type": "stream",
     "text": [
      "              precision    recall  f1-score   support\n",
      "\n",
      "    Negative       0.14      0.23      0.17        71\n",
      "     Neutral       0.29      0.26      0.27       134\n",
      "    Positive       0.49      0.41      0.45       209\n",
      "\n",
      "    accuracy                           0.33       414\n",
      "   macro avg       0.31      0.30      0.30       414\n",
      "weighted avg       0.37      0.33      0.34       414\n",
      "\n"
     ]
    }
   ],
   "source": [
    "cluster_dict={0:'Negative',\\\n",
    "              1:'Positive',\\\n",
    "              2:'Neutral'}\n",
    "predicted_target=[cluster_dict[i] \\\n",
    "                  for i in predicted]\n",
    "print(metrics.classification_report\\\n",
    "      (test_label, predicted_target))"
   ]
  },
  {
   "cell_type": "markdown",
   "id": "75d18f4f",
   "metadata": {},
   "source": [
    "# 4 Cluster"
   ]
  },
  {
   "cell_type": "code",
   "execution_count": 24,
   "id": "6760ba0d",
   "metadata": {
    "ExecuteTime": {
     "end_time": "2021-12-11T02:17:49.495246Z",
     "start_time": "2021-12-11T02:05:47.482910Z"
    }
   },
   "outputs": [
    {
     "ename": "KeyboardInterrupt",
     "evalue": "",
     "output_type": "error",
     "traceback": [
      "\u001b[1;31m---------------------------------------------------------------------------\u001b[0m",
      "\u001b[1;31mKeyboardInterrupt\u001b[0m                         Traceback (most recent call last)",
      "\u001b[1;32m<ipython-input-24-125de59b8a1e>\u001b[0m in \u001b[0;36m<module>\u001b[1;34m\u001b[0m\n\u001b[0;32m      2\u001b[0m \u001b[0mclusterer_4\u001b[0m \u001b[1;33m=\u001b[0m \u001b[0mKMeansClusterer\u001b[0m\u001b[1;33m(\u001b[0m\u001b[0mnum_clusters\u001b[0m\u001b[1;33m,\u001b[0m \u001b[0mcosine_distance\u001b[0m\u001b[1;33m,\u001b[0m \u001b[0mavoid_empty_clusters\u001b[0m\u001b[1;33m=\u001b[0m\u001b[1;32mTrue\u001b[0m\u001b[1;33m,\u001b[0m \u001b[0mrepeats\u001b[0m\u001b[1;33m=\u001b[0m\u001b[1;36m30\u001b[0m\u001b[1;33m)\u001b[0m\u001b[1;33m\u001b[0m\u001b[1;33m\u001b[0m\u001b[0m\n\u001b[0;32m      3\u001b[0m \u001b[1;31m#clusterer_4 = KMeansClusterer(num_clusters, euclidean_distance, repeats=30)\u001b[0m\u001b[1;33m\u001b[0m\u001b[1;33m\u001b[0m\u001b[1;33m\u001b[0m\u001b[0m\n\u001b[1;32m----> 4\u001b[1;33m \u001b[0mclusters_4\u001b[0m \u001b[1;33m=\u001b[0m \u001b[0mclusterer_4\u001b[0m\u001b[1;33m.\u001b[0m\u001b[0mcluster\u001b[0m\u001b[1;33m(\u001b[0m\u001b[0mdtm\u001b[0m\u001b[1;33m.\u001b[0m\u001b[0mtoarray\u001b[0m\u001b[1;33m(\u001b[0m\u001b[1;33m)\u001b[0m\u001b[1;33m,\u001b[0m \u001b[0massign_clusters\u001b[0m\u001b[1;33m=\u001b[0m\u001b[1;32mTrue\u001b[0m\u001b[1;33m)\u001b[0m\u001b[1;33m\u001b[0m\u001b[1;33m\u001b[0m\u001b[0m\n\u001b[0m",
      "\u001b[1;32mC:\\anaconda3\\lib\\site-packages\\nltk\\cluster\\util.py\u001b[0m in \u001b[0;36mcluster\u001b[1;34m(self, vectors, assign_clusters, trace)\u001b[0m\n\u001b[0;32m     58\u001b[0m \u001b[1;33m\u001b[0m\u001b[0m\n\u001b[0;32m     59\u001b[0m         \u001b[1;31m# call abstract method to cluster the vectors\u001b[0m\u001b[1;33m\u001b[0m\u001b[1;33m\u001b[0m\u001b[1;33m\u001b[0m\u001b[0m\n\u001b[1;32m---> 60\u001b[1;33m         \u001b[0mself\u001b[0m\u001b[1;33m.\u001b[0m\u001b[0mcluster_vectorspace\u001b[0m\u001b[1;33m(\u001b[0m\u001b[0mvectors\u001b[0m\u001b[1;33m,\u001b[0m \u001b[0mtrace\u001b[0m\u001b[1;33m)\u001b[0m\u001b[1;33m\u001b[0m\u001b[1;33m\u001b[0m\u001b[0m\n\u001b[0m\u001b[0;32m     61\u001b[0m \u001b[1;33m\u001b[0m\u001b[0m\n\u001b[0;32m     62\u001b[0m         \u001b[1;31m# assign the vectors to clusters\u001b[0m\u001b[1;33m\u001b[0m\u001b[1;33m\u001b[0m\u001b[1;33m\u001b[0m\u001b[0m\n",
      "\u001b[1;32mC:\\anaconda3\\lib\\site-packages\\nltk\\cluster\\kmeans.py\u001b[0m in \u001b[0;36mcluster_vectorspace\u001b[1;34m(self, vectors, trace)\u001b[0m\n\u001b[0;32m     89\u001b[0m             \u001b[1;32mif\u001b[0m \u001b[1;32mnot\u001b[0m \u001b[0mself\u001b[0m\u001b[1;33m.\u001b[0m\u001b[0m_means\u001b[0m \u001b[1;32mor\u001b[0m \u001b[0mtrial\u001b[0m \u001b[1;33m>\u001b[0m \u001b[1;36m1\u001b[0m\u001b[1;33m:\u001b[0m\u001b[1;33m\u001b[0m\u001b[1;33m\u001b[0m\u001b[0m\n\u001b[0;32m     90\u001b[0m                 \u001b[0mself\u001b[0m\u001b[1;33m.\u001b[0m\u001b[0m_means\u001b[0m \u001b[1;33m=\u001b[0m \u001b[0mself\u001b[0m\u001b[1;33m.\u001b[0m\u001b[0m_rng\u001b[0m\u001b[1;33m.\u001b[0m\u001b[0msample\u001b[0m\u001b[1;33m(\u001b[0m\u001b[0mlist\u001b[0m\u001b[1;33m(\u001b[0m\u001b[0mvectors\u001b[0m\u001b[1;33m)\u001b[0m\u001b[1;33m,\u001b[0m \u001b[0mself\u001b[0m\u001b[1;33m.\u001b[0m\u001b[0m_num_means\u001b[0m\u001b[1;33m)\u001b[0m\u001b[1;33m\u001b[0m\u001b[1;33m\u001b[0m\u001b[0m\n\u001b[1;32m---> 91\u001b[1;33m             \u001b[0mself\u001b[0m\u001b[1;33m.\u001b[0m\u001b[0m_cluster_vectorspace\u001b[0m\u001b[1;33m(\u001b[0m\u001b[0mvectors\u001b[0m\u001b[1;33m,\u001b[0m \u001b[0mtrace\u001b[0m\u001b[1;33m)\u001b[0m\u001b[1;33m\u001b[0m\u001b[1;33m\u001b[0m\u001b[0m\n\u001b[0m\u001b[0;32m     92\u001b[0m             \u001b[0mmeanss\u001b[0m\u001b[1;33m.\u001b[0m\u001b[0mappend\u001b[0m\u001b[1;33m(\u001b[0m\u001b[0mself\u001b[0m\u001b[1;33m.\u001b[0m\u001b[0m_means\u001b[0m\u001b[1;33m)\u001b[0m\u001b[1;33m\u001b[0m\u001b[1;33m\u001b[0m\u001b[0m\n\u001b[0;32m     93\u001b[0m \u001b[1;33m\u001b[0m\u001b[0m\n",
      "\u001b[1;32mC:\\anaconda3\\lib\\site-packages\\nltk\\cluster\\kmeans.py\u001b[0m in \u001b[0;36m_cluster_vectorspace\u001b[1;34m(self, vectors, trace)\u001b[0m\n\u001b[0;32m    120\u001b[0m                 \u001b[0mclusters\u001b[0m \u001b[1;33m=\u001b[0m \u001b[1;33m[\u001b[0m\u001b[1;33m[\u001b[0m\u001b[1;33m]\u001b[0m \u001b[1;32mfor\u001b[0m \u001b[0mm\u001b[0m \u001b[1;32min\u001b[0m \u001b[0mrange\u001b[0m\u001b[1;33m(\u001b[0m\u001b[0mself\u001b[0m\u001b[1;33m.\u001b[0m\u001b[0m_num_means\u001b[0m\u001b[1;33m)\u001b[0m\u001b[1;33m]\u001b[0m\u001b[1;33m\u001b[0m\u001b[1;33m\u001b[0m\u001b[0m\n\u001b[0;32m    121\u001b[0m                 \u001b[1;32mfor\u001b[0m \u001b[0mvector\u001b[0m \u001b[1;32min\u001b[0m \u001b[0mvectors\u001b[0m\u001b[1;33m:\u001b[0m\u001b[1;33m\u001b[0m\u001b[1;33m\u001b[0m\u001b[0m\n\u001b[1;32m--> 122\u001b[1;33m                     \u001b[0mindex\u001b[0m \u001b[1;33m=\u001b[0m \u001b[0mself\u001b[0m\u001b[1;33m.\u001b[0m\u001b[0mclassify_vectorspace\u001b[0m\u001b[1;33m(\u001b[0m\u001b[0mvector\u001b[0m\u001b[1;33m)\u001b[0m\u001b[1;33m\u001b[0m\u001b[1;33m\u001b[0m\u001b[0m\n\u001b[0m\u001b[0;32m    123\u001b[0m                     \u001b[0mclusters\u001b[0m\u001b[1;33m[\u001b[0m\u001b[0mindex\u001b[0m\u001b[1;33m]\u001b[0m\u001b[1;33m.\u001b[0m\u001b[0mappend\u001b[0m\u001b[1;33m(\u001b[0m\u001b[0mvector\u001b[0m\u001b[1;33m)\u001b[0m\u001b[1;33m\u001b[0m\u001b[1;33m\u001b[0m\u001b[0m\n\u001b[0;32m    124\u001b[0m \u001b[1;33m\u001b[0m\u001b[0m\n",
      "\u001b[1;32mC:\\anaconda3\\lib\\site-packages\\nltk\\cluster\\kmeans.py\u001b[0m in \u001b[0;36mclassify_vectorspace\u001b[1;34m(self, vector)\u001b[0m\n\u001b[0;32m    145\u001b[0m         \u001b[1;32mfor\u001b[0m \u001b[0mindex\u001b[0m \u001b[1;32min\u001b[0m \u001b[0mrange\u001b[0m\u001b[1;33m(\u001b[0m\u001b[0mlen\u001b[0m\u001b[1;33m(\u001b[0m\u001b[0mself\u001b[0m\u001b[1;33m.\u001b[0m\u001b[0m_means\u001b[0m\u001b[1;33m)\u001b[0m\u001b[1;33m)\u001b[0m\u001b[1;33m:\u001b[0m\u001b[1;33m\u001b[0m\u001b[1;33m\u001b[0m\u001b[0m\n\u001b[0;32m    146\u001b[0m             \u001b[0mmean\u001b[0m \u001b[1;33m=\u001b[0m \u001b[0mself\u001b[0m\u001b[1;33m.\u001b[0m\u001b[0m_means\u001b[0m\u001b[1;33m[\u001b[0m\u001b[0mindex\u001b[0m\u001b[1;33m]\u001b[0m\u001b[1;33m\u001b[0m\u001b[1;33m\u001b[0m\u001b[0m\n\u001b[1;32m--> 147\u001b[1;33m             \u001b[0mdist\u001b[0m \u001b[1;33m=\u001b[0m \u001b[0mself\u001b[0m\u001b[1;33m.\u001b[0m\u001b[0m_distance\u001b[0m\u001b[1;33m(\u001b[0m\u001b[0mvector\u001b[0m\u001b[1;33m,\u001b[0m \u001b[0mmean\u001b[0m\u001b[1;33m)\u001b[0m\u001b[1;33m\u001b[0m\u001b[1;33m\u001b[0m\u001b[0m\n\u001b[0m\u001b[0;32m    148\u001b[0m             \u001b[1;32mif\u001b[0m \u001b[0mbest_distance\u001b[0m \u001b[1;32mis\u001b[0m \u001b[1;32mNone\u001b[0m \u001b[1;32mor\u001b[0m \u001b[0mdist\u001b[0m \u001b[1;33m<\u001b[0m \u001b[0mbest_distance\u001b[0m\u001b[1;33m:\u001b[0m\u001b[1;33m\u001b[0m\u001b[1;33m\u001b[0m\u001b[0m\n\u001b[0;32m    149\u001b[0m                 \u001b[0mbest_index\u001b[0m\u001b[1;33m,\u001b[0m \u001b[0mbest_distance\u001b[0m \u001b[1;33m=\u001b[0m \u001b[0mindex\u001b[0m\u001b[1;33m,\u001b[0m \u001b[0mdist\u001b[0m\u001b[1;33m\u001b[0m\u001b[1;33m\u001b[0m\u001b[0m\n",
      "\u001b[1;32mC:\\anaconda3\\lib\\site-packages\\nltk\\cluster\\util.py\u001b[0m in \u001b[0;36mcosine_distance\u001b[1;34m(u, v)\u001b[0m\n\u001b[0;32m    129\u001b[0m     \u001b[0mequal\u001b[0m \u001b[0mto\u001b[0m \u001b[1;36m1\u001b[0m \u001b[1;33m-\u001b[0m \u001b[1;33m(\u001b[0m\u001b[0mu\u001b[0m\u001b[1;33m.\u001b[0m\u001b[0mv\u001b[0m \u001b[1;33m/\u001b[0m \u001b[1;33m|\u001b[0m\u001b[0mu\u001b[0m\u001b[1;33m|\u001b[0m\u001b[1;33m|\u001b[0m\u001b[0mv\u001b[0m\u001b[1;33m|\u001b[0m\u001b[1;33m)\u001b[0m\u001b[1;33m.\u001b[0m\u001b[1;33m\u001b[0m\u001b[1;33m\u001b[0m\u001b[0m\n\u001b[0;32m    130\u001b[0m     \"\"\"\n\u001b[1;32m--> 131\u001b[1;33m     \u001b[1;32mreturn\u001b[0m \u001b[1;36m1\u001b[0m \u001b[1;33m-\u001b[0m \u001b[1;33m(\u001b[0m\u001b[0mnumpy\u001b[0m\u001b[1;33m.\u001b[0m\u001b[0mdot\u001b[0m\u001b[1;33m(\u001b[0m\u001b[0mu\u001b[0m\u001b[1;33m,\u001b[0m \u001b[0mv\u001b[0m\u001b[1;33m)\u001b[0m \u001b[1;33m/\u001b[0m \u001b[1;33m(\u001b[0m\u001b[0msqrt\u001b[0m\u001b[1;33m(\u001b[0m\u001b[0mnumpy\u001b[0m\u001b[1;33m.\u001b[0m\u001b[0mdot\u001b[0m\u001b[1;33m(\u001b[0m\u001b[0mu\u001b[0m\u001b[1;33m,\u001b[0m \u001b[0mu\u001b[0m\u001b[1;33m)\u001b[0m\u001b[1;33m)\u001b[0m \u001b[1;33m*\u001b[0m \u001b[0msqrt\u001b[0m\u001b[1;33m(\u001b[0m\u001b[0mnumpy\u001b[0m\u001b[1;33m.\u001b[0m\u001b[0mdot\u001b[0m\u001b[1;33m(\u001b[0m\u001b[0mv\u001b[0m\u001b[1;33m,\u001b[0m \u001b[0mv\u001b[0m\u001b[1;33m)\u001b[0m\u001b[1;33m)\u001b[0m\u001b[1;33m)\u001b[0m\u001b[1;33m)\u001b[0m\u001b[1;33m\u001b[0m\u001b[1;33m\u001b[0m\u001b[0m\n\u001b[0m\u001b[0;32m    132\u001b[0m \u001b[1;33m\u001b[0m\u001b[0m\n\u001b[0;32m    133\u001b[0m \u001b[1;33m\u001b[0m\u001b[0m\n",
      "\u001b[1;32m<__array_function__ internals>\u001b[0m in \u001b[0;36mdot\u001b[1;34m(*args, **kwargs)\u001b[0m\n",
      "\u001b[1;31mKeyboardInterrupt\u001b[0m: "
     ]
    }
   ],
   "source": [
    "num_clusters=4\n",
    "clusterer_4 = KMeansClusterer(num_clusters, cosine_distance, avoid_empty_clusters=True, repeats=30)\n",
    "#clusterer_4 = KMeansClusterer(num_clusters, euclidean_distance, repeats=30)\n",
    "clusters_4 = clusterer_4.cluster(dtm.toarray(), assign_clusters=True)"
   ]
  },
  {
   "cell_type": "code",
   "execution_count": null,
   "id": "3ec2aad7",
   "metadata": {
    "ExecuteTime": {
     "end_time": "2021-12-11T02:17:49.497230Z",
     "start_time": "2021-12-11T02:05:47.986Z"
    }
   },
   "outputs": [],
   "source": [
    "centroids=np.array(clusterer_4.means())\n",
    "sorted_centroids = centroids.argsort()[:, ::-1]\n",
    "voc_lookup= tfidf_vect.get_feature_names()\n",
    "for i in range(num_clusters):\n",
    "    \n",
    "    # get words with top 20 tf-idf weight in the centroid\n",
    "    top_words=[voc_lookup[word_index] \\\n",
    "               for word_index in sorted_centroids[i, :50]]\n",
    "    print(\"Cluster %d:\\n %s \" % (i, \"; \".join(top_words)))"
   ]
  },
  {
   "cell_type": "markdown",
   "id": "34abe1d1",
   "metadata": {},
   "source": [
    "# 7 Cluster"
   ]
  },
  {
   "cell_type": "code",
   "execution_count": null,
   "id": "3c2a6758",
   "metadata": {
    "ExecuteTime": {
     "end_time": "2021-12-11T02:17:49.498246Z",
     "start_time": "2021-12-11T02:05:49.390Z"
    }
   },
   "outputs": [],
   "source": [
    "num_clusters=7\n",
    "clusterer_7 = KMeansClusterer(num_clusters, cosine_distance, avoid_empty_clusters=True, repeats=25)\n",
    "#clusterer_7 = KMeansClusterer(num_clusters, euclidean_distance, repeats=30)\n",
    "clusters_7 = clusterer_7.cluster(dtm.toarray(), assign_clusters=True)"
   ]
  },
  {
   "cell_type": "code",
   "execution_count": null,
   "id": "ed20cc61",
   "metadata": {
    "ExecuteTime": {
     "end_time": "2021-12-11T02:17:49.499232Z",
     "start_time": "2021-12-11T02:05:49.678Z"
    }
   },
   "outputs": [],
   "source": [
    "centroids=np.array(clusterer_7.means())\n",
    "sorted_centroids = centroids.argsort()[:, ::-1]\n",
    "voc_lookup= tfidf_vect.get_feature_names()\n",
    "for i in range(num_clusters):\n",
    "    \n",
    "    # get words with top 20 tf-idf weight in the centroid\n",
    "    top_words=[voc_lookup[word_index] \\\n",
    "               for word_index in sorted_centroids[i, :30]]\n",
    "    print(\"Cluster %d:\\n %s \" % (i, \"; \".join(top_words)))"
   ]
  },
  {
   "cell_type": "code",
   "execution_count": null,
   "id": "369bbbea",
   "metadata": {},
   "outputs": [],
   "source": []
  }
 ],
 "metadata": {
  "kernelspec": {
   "display_name": "Python 3",
   "language": "python",
   "name": "python3"
  },
  "language_info": {
   "codemirror_mode": {
    "name": "ipython",
    "version": 3
   },
   "file_extension": ".py",
   "mimetype": "text/x-python",
   "name": "python",
   "nbconvert_exporter": "python",
   "pygments_lexer": "ipython3",
   "version": "3.8.8"
  }
 },
 "nbformat": 4,
 "nbformat_minor": 5
}
