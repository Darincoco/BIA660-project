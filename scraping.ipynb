{
 "cells": [
  {
   "cell_type": "code",
   "execution_count": 2,
   "id": "cae87dc9",
   "metadata": {
    "ExecuteTime": {
     "end_time": "2021-12-06T19:44:56.494928Z",
     "start_time": "2021-12-06T19:44:52.434481Z"
    }
   },
   "outputs": [],
   "source": [
    "import os\n",
    "import csv\n",
    "from tqdm import tqdm\n",
    "import tweepy\n",
    "import pandas as pd\n",
    "import time\n",
    "from datetime import datetime\n",
    "import nltk\n",
    "\n",
    "\n",
    "CONSUMER_KEY='DfMnPVzPIRS1jyhwEEtIWVNYF'\n",
    "CONSUMER_SECRET='3YVosIbf8GBGahVCMfjHEVNRBUGb00CI5N4OVkzelwmM5jXVbn'\n",
    "ACCESS_KEY='1640818273-xsgeYxwxsz5T1FCrE1OhJnR6lvURfai1ija02DW'\n",
    "ACCESS_SECRET='DNISI77zYk4IN4znu29VcjkPLRKgSWsnXua1i3XjtPlaE'"
   ]
  },
  {
   "cell_type": "code",
   "execution_count": 3,
   "id": "783fd043",
   "metadata": {
    "ExecuteTime": {
     "end_time": "2021-12-06T19:44:57.317706Z",
     "start_time": "2021-12-06T19:44:57.313748Z"
    }
   },
   "outputs": [],
   "source": [
    "auth=tweepy.OAuthHandler(CONSUMER_KEY,CONSUMER_SECRET)\n",
    "auth.set_access_token(ACCESS_KEY,ACCESS_SECRET)"
   ]
  },
  {
   "cell_type": "code",
   "execution_count": 4,
   "id": "0521bba0",
   "metadata": {
    "ExecuteTime": {
     "end_time": "2021-12-06T19:44:58.700446Z",
     "start_time": "2021-12-06T19:44:58.201469Z"
    },
    "scrolled": true
   },
   "outputs": [
    {
     "ename": "TooManyRequests",
     "evalue": "429 Too Many Requests\nRequest exceeds account’s current package request limits. Please upgrade your package and retry or contact Twitter about enterprise access.",
     "output_type": "error",
     "traceback": [
      "\u001b[1;31m---------------------------------------------------------------------------\u001b[0m",
      "\u001b[1;31mTooManyRequests\u001b[0m                           Traceback (most recent call last)",
      "\u001b[1;32m<ipython-input-4-d06157c0d72b>\u001b[0m in \u001b[0;36m<module>\u001b[1;34m\u001b[0m\n\u001b[0;32m     49\u001b[0m \u001b[1;32mif\u001b[0m \u001b[0m__name__\u001b[0m \u001b[1;33m==\u001b[0m \u001b[1;34m\"__main__\"\u001b[0m\u001b[1;33m:\u001b[0m\u001b[1;33m\u001b[0m\u001b[1;33m\u001b[0m\u001b[0m\n\u001b[0;32m     50\u001b[0m     \u001b[0mf_keywords\u001b[0m \u001b[1;33m=\u001b[0m \u001b[1;34m\"Pfizer\"\u001b[0m\u001b[1;33m\u001b[0m\u001b[1;33m\u001b[0m\u001b[0m\n\u001b[1;32m---> 51\u001b[1;33m     \u001b[0mget_tweets\u001b[0m\u001b[1;33m(\u001b[0m\u001b[0mf_keywords\u001b[0m\u001b[1;33m)\u001b[0m\u001b[1;33m\u001b[0m\u001b[1;33m\u001b[0m\u001b[0m\n\u001b[0m\u001b[0;32m     52\u001b[0m \u001b[1;33m\u001b[0m\u001b[0m\n\u001b[0;32m     53\u001b[0m \u001b[1;31m#features_df = pd.read_csv(\"bpd_feature_data.csv\", header=0)\u001b[0m\u001b[1;33m\u001b[0m\u001b[1;33m\u001b[0m\u001b[1;33m\u001b[0m\u001b[0m\n",
      "\u001b[1;32m<ipython-input-4-d06157c0d72b>\u001b[0m in \u001b[0;36mget_tweets\u001b[1;34m(feature_keywords, num_tweets, f_text, retweets)\u001b[0m\n\u001b[0;32m      9\u001b[0m     \u001b[1;31m# THE PARAMETER LABEL IN SEARCH_FULL_ARCHIVE WILL CHANGE ACCORDING TO YOUR NAMING CONVENTION\u001b[0m\u001b[1;33m\u001b[0m\u001b[1;33m\u001b[0m\u001b[1;33m\u001b[0m\u001b[0m\n\u001b[0;32m     10\u001b[0m     \u001b[1;31m# Create a dev environment in one of your apps: https://developer.twitter.com/en/account/environments\u001b[0m\u001b[1;33m\u001b[0m\u001b[1;33m\u001b[0m\u001b[1;33m\u001b[0m\u001b[0m\n\u001b[1;32m---> 11\u001b[1;33m     fetch_feature_tweets = api.search_full_archive(label=\"darin\", query=feature_keywords, fromDate=start_date, toDate=end_date,\n\u001b[0m\u001b[0;32m     12\u001b[0m                                        maxResults=num_tweets) \n\u001b[0;32m     13\u001b[0m \u001b[1;33m\u001b[0m\u001b[0m\n",
      "\u001b[1;32mC:\\anaconda3\\lib\\site-packages\\tweepy\\api.py\u001b[0m in \u001b[0;36mwrapper\u001b[1;34m(*args, **kwargs)\u001b[0m\n\u001b[0;32m     31\u001b[0m         \u001b[1;33m@\u001b[0m\u001b[0mfunctools\u001b[0m\u001b[1;33m.\u001b[0m\u001b[0mwraps\u001b[0m\u001b[1;33m(\u001b[0m\u001b[0mmethod\u001b[0m\u001b[1;33m)\u001b[0m\u001b[1;33m\u001b[0m\u001b[1;33m\u001b[0m\u001b[0m\n\u001b[0;32m     32\u001b[0m         \u001b[1;32mdef\u001b[0m \u001b[0mwrapper\u001b[0m\u001b[1;33m(\u001b[0m\u001b[1;33m*\u001b[0m\u001b[0margs\u001b[0m\u001b[1;33m,\u001b[0m \u001b[1;33m**\u001b[0m\u001b[0mkwargs\u001b[0m\u001b[1;33m)\u001b[0m\u001b[1;33m:\u001b[0m\u001b[1;33m\u001b[0m\u001b[1;33m\u001b[0m\u001b[0m\n\u001b[1;32m---> 33\u001b[1;33m             \u001b[1;32mreturn\u001b[0m \u001b[0mmethod\u001b[0m\u001b[1;33m(\u001b[0m\u001b[1;33m*\u001b[0m\u001b[0margs\u001b[0m\u001b[1;33m,\u001b[0m \u001b[1;33m**\u001b[0m\u001b[0mkwargs\u001b[0m\u001b[1;33m)\u001b[0m\u001b[1;33m\u001b[0m\u001b[1;33m\u001b[0m\u001b[0m\n\u001b[0m\u001b[0;32m     34\u001b[0m         \u001b[0mwrapper\u001b[0m\u001b[1;33m.\u001b[0m\u001b[0mpagination_mode\u001b[0m \u001b[1;33m=\u001b[0m \u001b[0mmode\u001b[0m\u001b[1;33m\u001b[0m\u001b[1;33m\u001b[0m\u001b[0m\n\u001b[0;32m     35\u001b[0m         \u001b[1;32mreturn\u001b[0m \u001b[0mwrapper\u001b[0m\u001b[1;33m\u001b[0m\u001b[1;33m\u001b[0m\u001b[0m\n",
      "\u001b[1;32mC:\\anaconda3\\lib\\site-packages\\tweepy\\api.py\u001b[0m in \u001b[0;36mwrapper\u001b[1;34m(*args, **kwargs)\u001b[0m\n\u001b[0;32m     44\u001b[0m             \u001b[0mkwargs\u001b[0m\u001b[1;33m[\u001b[0m\u001b[1;34m'payload_list'\u001b[0m\u001b[1;33m]\u001b[0m \u001b[1;33m=\u001b[0m \u001b[0mpayload_list\u001b[0m\u001b[1;33m\u001b[0m\u001b[1;33m\u001b[0m\u001b[0m\n\u001b[0;32m     45\u001b[0m             \u001b[0mkwargs\u001b[0m\u001b[1;33m[\u001b[0m\u001b[1;34m'payload_type'\u001b[0m\u001b[1;33m]\u001b[0m \u001b[1;33m=\u001b[0m \u001b[0mpayload_type\u001b[0m\u001b[1;33m\u001b[0m\u001b[1;33m\u001b[0m\u001b[0m\n\u001b[1;32m---> 46\u001b[1;33m             \u001b[1;32mreturn\u001b[0m \u001b[0mmethod\u001b[0m\u001b[1;33m(\u001b[0m\u001b[1;33m*\u001b[0m\u001b[0margs\u001b[0m\u001b[1;33m,\u001b[0m \u001b[1;33m**\u001b[0m\u001b[0mkwargs\u001b[0m\u001b[1;33m)\u001b[0m\u001b[1;33m\u001b[0m\u001b[1;33m\u001b[0m\u001b[0m\n\u001b[0m\u001b[0;32m     47\u001b[0m         \u001b[0mwrapper\u001b[0m\u001b[1;33m.\u001b[0m\u001b[0mpayload_list\u001b[0m \u001b[1;33m=\u001b[0m \u001b[0mpayload_list\u001b[0m\u001b[1;33m\u001b[0m\u001b[1;33m\u001b[0m\u001b[0m\n\u001b[0;32m     48\u001b[0m         \u001b[0mwrapper\u001b[0m\u001b[1;33m.\u001b[0m\u001b[0mpayload_type\u001b[0m \u001b[1;33m=\u001b[0m \u001b[0mpayload_type\u001b[0m\u001b[1;33m\u001b[0m\u001b[1;33m\u001b[0m\u001b[0m\n",
      "\u001b[1;32mC:\\anaconda3\\lib\\site-packages\\tweepy\\api.py\u001b[0m in \u001b[0;36msearch_full_archive\u001b[1;34m(self, label, query, **kwargs)\u001b[0m\n\u001b[0;32m    445\u001b[0m         \u001b[0mhttps\u001b[0m\u001b[1;33m:\u001b[0m\u001b[1;33m//\u001b[0m\u001b[0mdeveloper\u001b[0m\u001b[1;33m.\u001b[0m\u001b[0mtwitter\u001b[0m\u001b[1;33m.\u001b[0m\u001b[0mcom\u001b[0m\u001b[1;33m/\u001b[0m\u001b[0men\u001b[0m\u001b[1;33m/\u001b[0m\u001b[0mdocs\u001b[0m\u001b[1;33m/\u001b[0m\u001b[0mtwitter\u001b[0m\u001b[1;33m-\u001b[0m\u001b[0mapi\u001b[0m\u001b[1;33m/\u001b[0m\u001b[0mpremium\u001b[0m\u001b[1;33m/\u001b[0m\u001b[0msearch\u001b[0m\u001b[1;33m-\u001b[0m\u001b[0mapi\u001b[0m\u001b[1;33m/\u001b[0m\u001b[0mapi\u001b[0m\u001b[1;33m-\u001b[0m\u001b[0mreference\u001b[0m\u001b[1;33m/\u001b[0m\u001b[0mpremium\u001b[0m\u001b[1;33m-\u001b[0m\u001b[0msearch\u001b[0m\u001b[1;33m\u001b[0m\u001b[1;33m\u001b[0m\u001b[0m\n\u001b[0;32m    446\u001b[0m         \"\"\"\n\u001b[1;32m--> 447\u001b[1;33m         return self.request(\n\u001b[0m\u001b[0;32m    448\u001b[0m             'GET', f'tweets/search/fullarchive/{label}', endpoint_parameters=(\n\u001b[0;32m    449\u001b[0m                 \u001b[1;34m'query'\u001b[0m\u001b[1;33m,\u001b[0m \u001b[1;34m'tag'\u001b[0m\u001b[1;33m,\u001b[0m \u001b[1;34m'fromDate'\u001b[0m\u001b[1;33m,\u001b[0m \u001b[1;34m'toDate'\u001b[0m\u001b[1;33m,\u001b[0m \u001b[1;34m'maxResults'\u001b[0m\u001b[1;33m,\u001b[0m \u001b[1;34m'next'\u001b[0m\u001b[1;33m\u001b[0m\u001b[1;33m\u001b[0m\u001b[0m\n",
      "\u001b[1;32mC:\\anaconda3\\lib\\site-packages\\tweepy\\api.py\u001b[0m in \u001b[0;36mrequest\u001b[1;34m(self, method, endpoint, endpoint_parameters, params, headers, json_payload, parser, payload_list, payload_type, post_data, files, require_auth, return_cursors, upload_api, use_cache, **kwargs)\u001b[0m\n\u001b[0;32m    261\u001b[0m                 \u001b[1;32mraise\u001b[0m \u001b[0mNotFound\u001b[0m\u001b[1;33m(\u001b[0m\u001b[0mresp\u001b[0m\u001b[1;33m)\u001b[0m\u001b[1;33m\u001b[0m\u001b[1;33m\u001b[0m\u001b[0m\n\u001b[0;32m    262\u001b[0m             \u001b[1;32mif\u001b[0m \u001b[0mresp\u001b[0m\u001b[1;33m.\u001b[0m\u001b[0mstatus_code\u001b[0m \u001b[1;33m==\u001b[0m \u001b[1;36m429\u001b[0m\u001b[1;33m:\u001b[0m\u001b[1;33m\u001b[0m\u001b[1;33m\u001b[0m\u001b[0m\n\u001b[1;32m--> 263\u001b[1;33m                 \u001b[1;32mraise\u001b[0m \u001b[0mTooManyRequests\u001b[0m\u001b[1;33m(\u001b[0m\u001b[0mresp\u001b[0m\u001b[1;33m)\u001b[0m\u001b[1;33m\u001b[0m\u001b[1;33m\u001b[0m\u001b[0m\n\u001b[0m\u001b[0;32m    264\u001b[0m             \u001b[1;32mif\u001b[0m \u001b[0mresp\u001b[0m\u001b[1;33m.\u001b[0m\u001b[0mstatus_code\u001b[0m \u001b[1;33m>=\u001b[0m \u001b[1;36m500\u001b[0m\u001b[1;33m:\u001b[0m\u001b[1;33m\u001b[0m\u001b[1;33m\u001b[0m\u001b[0m\n\u001b[0;32m    265\u001b[0m                 \u001b[1;32mraise\u001b[0m \u001b[0mTwitterServerError\u001b[0m\u001b[1;33m(\u001b[0m\u001b[0mresp\u001b[0m\u001b[1;33m)\u001b[0m\u001b[1;33m\u001b[0m\u001b[1;33m\u001b[0m\u001b[0m\n",
      "\u001b[1;31mTooManyRequests\u001b[0m: 429 Too Many Requests\nRequest exceeds account’s current package request limits. Please upgrade your package and retry or contact Twitter about enterprise access."
     ]
    }
   ],
   "source": [
    "# FEATURE DATABASE SCRIPT \n",
    "\n",
    "def get_tweets(feature_keywords, num_tweets=100, f_text=\"extended\", retweets=\"retweeted_status\"):\n",
    "\n",
    "    start_date = \"202111010900\"  # 03-01-2020 at 9:00 am\n",
    "    end_date = \"202112010900\"  # 04-01-2020 at 9:00 am\n",
    "    api = tweepy.API(auth, wait_on_rate_limit=True)\n",
    "\n",
    "    # THE PARAMETER LABEL IN SEARCH_FULL_ARCHIVE WILL CHANGE ACCORDING TO YOUR NAMING CONVENTION\n",
    "    # Create a dev environment in one of your apps: https://developer.twitter.com/en/account/environments\n",
    "    fetch_feature_tweets = api.search_full_archive(label=\"darin\", query=feature_keywords, fromDate=start_date, toDate=end_date,\n",
    "                                       maxResults=num_tweets) \n",
    "\n",
    "    all_feat_tweets = []\n",
    "    for ind, tweet in enumerate(tqdm(fetch_feature_tweets)):\n",
    "        # start_scrape = time.time()\n",
    "        status = api.get_status(tweet.id, tweet_mode=f_text)\n",
    "        if hasattr(status, retweets):\n",
    "            full_text = status.retweeted_status.full_text.encode(\"utf-8\").lower()\n",
    "            feat_tweets = [tweet.user.screen_name, full_text, tweet.retweeted_status.user.screen_name,\n",
    "                           tweet.entities['hashtags'], tweet.created_at, tweet.user.followers_count,\n",
    "                           tweet.user.friends_count, tweet.lang]\n",
    "            all_feat_tweets.append(feat_tweets)\n",
    "        else:\n",
    "            full_text = status.full_text.encode(\"utf-8\").lower()\n",
    "            feat_tweets = [tweet.user.screen_name, full_text, \"no retweet username\", tweet.entities['hashtags'],\n",
    "                           tweet.created_at, tweet.user.followers_count, tweet.user.friends_count, tweet.lang]\n",
    "            all_feat_tweets.append(feat_tweets)\n",
    "\n",
    "        print(\"...{} tweets downloaded so far\".format(len(all_feat_tweets)))\n",
    "        # end_scrape = time.time()\n",
    "        # total_scrape_time = round((end_scrape - start_scrape) / 60, 2)\n",
    "        # print('time taken for scrape is {} minutes'.format(total_scrape_time))\n",
    "\n",
    "    # THIS LINE BELOW COMMENT OUT AFTER YOU'VE USED IT ONCE\n",
    "    #csv_timestamp = datetime.now().strftime(\"%m_%d_%Y\")\n",
    "    path = os.getcwd()\n",
    "    # ALSO COMMENT OUT CSV_TIMESTAMP AFTER YOU'VE RAN THE SCRIPT ONCE\n",
    "    filename = path + '/' + '2021samplevaccine.csv'\n",
    "\n",
    "    # FOR YOUR SECOND AND ONGOING TIMES YOU RUN THE SCRIPT, CHANGE W TO A IN THE WITH OPEN LINE\n",
    "    with open(filename, 'w') as firstcsv:\n",
    "        writer = csv.writer(firstcsv)\n",
    "        writer.writerow([\"username\", \"tweet\", \"username_of_retweeter\", \"hashtag\", \"tweet created\",\n",
    "                         \"number of followers\", \"# following\"])\n",
    "        writer.writerows(all_feat_tweets)\n",
    "\n",
    "\n",
    "if __name__ == \"__main__\":\n",
    "    f_keywords = \"Pfizer\"\n",
    "    get_tweets(f_keywords)\n",
    "\n",
    "#features_df = pd.read_csv(\"bpd_feature_data.csv\", header=0)\n",
    "#features_df.head()\n",
    "#print(features_df.shape)\n",
    "#print(features_df.tweet[0])"
   ]
  },
  {
   "cell_type": "code",
   "execution_count": 23,
   "id": "9e50c02b",
   "metadata": {
    "ExecuteTime": {
     "end_time": "2021-12-05T17:22:24.403649Z",
     "start_time": "2021-12-05T17:22:05.335940Z"
    },
    "scrolled": true
   },
   "outputs": [
    {
     "name": "stderr",
     "output_type": "stream",
     "text": [
      "  2%|█▋                                                                                | 2/100 [00:00<00:18,  5.22it/s]"
     ]
    },
    {
     "name": "stdout",
     "output_type": "stream",
     "text": [
      "...1 tweets downloaded so far\n",
      "...2 tweets downloaded so far\n"
     ]
    },
    {
     "name": "stderr",
     "output_type": "stream",
     "text": [
      "  4%|███▎                                                                              | 4/100 [00:00<00:17,  5.43it/s]"
     ]
    },
    {
     "name": "stdout",
     "output_type": "stream",
     "text": [
      "...3 tweets downloaded so far\n",
      "...4 tweets downloaded so far\n"
     ]
    },
    {
     "name": "stderr",
     "output_type": "stream",
     "text": [
      "  6%|████▉                                                                             | 6/100 [00:01<00:16,  5.86it/s]"
     ]
    },
    {
     "name": "stdout",
     "output_type": "stream",
     "text": [
      "...5 tweets downloaded so far\n",
      "...6 tweets downloaded so far\n"
     ]
    },
    {
     "name": "stderr",
     "output_type": "stream",
     "text": [
      "  8%|██████▌                                                                           | 8/100 [00:01<00:15,  5.92it/s]"
     ]
    },
    {
     "name": "stdout",
     "output_type": "stream",
     "text": [
      "...7 tweets downloaded so far\n",
      "...8 tweets downloaded so far\n"
     ]
    },
    {
     "name": "stderr",
     "output_type": "stream",
     "text": [
      " 10%|████████                                                                         | 10/100 [00:01<00:15,  5.93it/s]"
     ]
    },
    {
     "name": "stdout",
     "output_type": "stream",
     "text": [
      "...9 tweets downloaded so far\n",
      "...10 tweets downloaded so far\n"
     ]
    },
    {
     "name": "stderr",
     "output_type": "stream",
     "text": [
      " 12%|█████████▋                                                                       | 12/100 [00:02<00:15,  5.72it/s]"
     ]
    },
    {
     "name": "stdout",
     "output_type": "stream",
     "text": [
      "...11 tweets downloaded so far\n",
      "...12 tweets downloaded so far\n"
     ]
    },
    {
     "name": "stderr",
     "output_type": "stream",
     "text": [
      " 14%|███████████▎                                                                     | 14/100 [00:02<00:14,  6.11it/s]"
     ]
    },
    {
     "name": "stdout",
     "output_type": "stream",
     "text": [
      "...13 tweets downloaded so far\n",
      "...14 tweets downloaded so far\n"
     ]
    },
    {
     "name": "stderr",
     "output_type": "stream",
     "text": [
      " 16%|████████████▉                                                                    | 16/100 [00:02<00:13,  6.03it/s]"
     ]
    },
    {
     "name": "stdout",
     "output_type": "stream",
     "text": [
      "...15 tweets downloaded so far\n",
      "...16 tweets downloaded so far\n"
     ]
    },
    {
     "name": "stderr",
     "output_type": "stream",
     "text": [
      " 18%|██████████████▌                                                                  | 18/100 [00:03<00:13,  6.15it/s]"
     ]
    },
    {
     "name": "stdout",
     "output_type": "stream",
     "text": [
      "...17 tweets downloaded so far\n",
      "...18 tweets downloaded so far\n"
     ]
    },
    {
     "name": "stderr",
     "output_type": "stream",
     "text": [
      " 20%|████████████████▏                                                                | 20/100 [00:03<00:13,  5.88it/s]"
     ]
    },
    {
     "name": "stdout",
     "output_type": "stream",
     "text": [
      "...19 tweets downloaded so far\n",
      "...20 tweets downloaded so far\n"
     ]
    },
    {
     "name": "stderr",
     "output_type": "stream",
     "text": [
      " 22%|█████████████████▊                                                               | 22/100 [00:03<00:13,  5.66it/s]"
     ]
    },
    {
     "name": "stdout",
     "output_type": "stream",
     "text": [
      "...21 tweets downloaded so far\n",
      "...22 tweets downloaded so far\n"
     ]
    },
    {
     "name": "stderr",
     "output_type": "stream",
     "text": [
      " 24%|███████████████████▍                                                             | 24/100 [00:04<00:13,  5.68it/s]"
     ]
    },
    {
     "name": "stdout",
     "output_type": "stream",
     "text": [
      "...23 tweets downloaded so far\n",
      "...24 tweets downloaded so far\n"
     ]
    },
    {
     "name": "stderr",
     "output_type": "stream",
     "text": [
      " 26%|█████████████████████                                                            | 26/100 [00:04<00:12,  5.97it/s]"
     ]
    },
    {
     "name": "stdout",
     "output_type": "stream",
     "text": [
      "...25 tweets downloaded so far\n",
      "...26 tweets downloaded so far\n"
     ]
    },
    {
     "name": "stderr",
     "output_type": "stream",
     "text": [
      " 28%|██████████████████████▋                                                          | 28/100 [00:04<00:12,  5.78it/s]"
     ]
    },
    {
     "name": "stdout",
     "output_type": "stream",
     "text": [
      "...27 tweets downloaded so far\n",
      "...28 tweets downloaded so far\n"
     ]
    },
    {
     "name": "stderr",
     "output_type": "stream",
     "text": [
      "\r",
      " 29%|███████████████████████▍                                                         | 29/100 [00:04<00:12,  5.80it/s]"
     ]
    },
    {
     "name": "stdout",
     "output_type": "stream",
     "text": [
      "...29 tweets downloaded so far\n"
     ]
    },
    {
     "name": "stderr",
     "output_type": "stream",
     "text": [
      " 31%|█████████████████████████                                                        | 31/100 [00:05<00:12,  5.58it/s]"
     ]
    },
    {
     "name": "stdout",
     "output_type": "stream",
     "text": [
      "...30 tweets downloaded so far\n",
      "...31 tweets downloaded so far\n"
     ]
    },
    {
     "name": "stderr",
     "output_type": "stream",
     "text": [
      " 33%|██████████████████████████▋                                                      | 33/100 [00:05<00:11,  5.84it/s]"
     ]
    },
    {
     "name": "stdout",
     "output_type": "stream",
     "text": [
      "...32 tweets downloaded so far\n",
      "...33 tweets downloaded so far\n"
     ]
    },
    {
     "name": "stderr",
     "output_type": "stream",
     "text": [
      " 35%|████████████████████████████▎                                                    | 35/100 [00:06<00:11,  5.86it/s]"
     ]
    },
    {
     "name": "stdout",
     "output_type": "stream",
     "text": [
      "...34 tweets downloaded so far\n",
      "...35 tweets downloaded so far\n"
     ]
    },
    {
     "name": "stderr",
     "output_type": "stream",
     "text": [
      " 37%|█████████████████████████████▉                                                   | 37/100 [00:06<00:11,  5.45it/s]"
     ]
    },
    {
     "name": "stdout",
     "output_type": "stream",
     "text": [
      "...36 tweets downloaded so far\n",
      "...37 tweets downloaded so far\n"
     ]
    },
    {
     "name": "stderr",
     "output_type": "stream",
     "text": [
      "\r",
      " 38%|██████████████████████████████▊                                                  | 38/100 [00:06<00:14,  4.27it/s]"
     ]
    },
    {
     "name": "stdout",
     "output_type": "stream",
     "text": [
      "...38 tweets downloaded so far\n"
     ]
    },
    {
     "name": "stderr",
     "output_type": "stream",
     "text": [
      "\r",
      " 39%|███████████████████████████████▌                                                 | 39/100 [00:07<00:14,  4.08it/s]"
     ]
    },
    {
     "name": "stdout",
     "output_type": "stream",
     "text": [
      "...39 tweets downloaded so far\n"
     ]
    },
    {
     "name": "stderr",
     "output_type": "stream",
     "text": [
      "\r",
      " 40%|████████████████████████████████▍                                                | 40/100 [00:07<00:17,  3.40it/s]"
     ]
    },
    {
     "name": "stdout",
     "output_type": "stream",
     "text": [
      "...40 tweets downloaded so far\n"
     ]
    },
    {
     "name": "stderr",
     "output_type": "stream",
     "text": [
      "\r",
      " 41%|█████████████████████████████████▏                                               | 41/100 [00:07<00:18,  3.15it/s]"
     ]
    },
    {
     "name": "stdout",
     "output_type": "stream",
     "text": [
      "...41 tweets downloaded so far\n"
     ]
    },
    {
     "name": "stderr",
     "output_type": "stream",
     "text": [
      "\r",
      " 42%|██████████████████████████████████                                               | 42/100 [00:08<00:19,  2.94it/s]"
     ]
    },
    {
     "name": "stdout",
     "output_type": "stream",
     "text": [
      "...42 tweets downloaded so far\n"
     ]
    },
    {
     "name": "stderr",
     "output_type": "stream",
     "text": [
      "\r",
      " 43%|██████████████████████████████████▊                                              | 43/100 [00:08<00:17,  3.27it/s]"
     ]
    },
    {
     "name": "stdout",
     "output_type": "stream",
     "text": [
      "...43 tweets downloaded so far\n"
     ]
    },
    {
     "name": "stderr",
     "output_type": "stream",
     "text": [
      "\r",
      " 44%|███████████████████████████████████▋                                             | 44/100 [00:08<00:16,  3.45it/s]"
     ]
    },
    {
     "name": "stdout",
     "output_type": "stream",
     "text": [
      "...44 tweets downloaded so far\n"
     ]
    },
    {
     "name": "stderr",
     "output_type": "stream",
     "text": [
      " 46%|█████████████████████████████████████▎                                           | 46/100 [00:09<00:15,  3.57it/s]"
     ]
    },
    {
     "name": "stdout",
     "output_type": "stream",
     "text": [
      "...45 tweets downloaded so far\n",
      "...46 tweets downloaded so far\n"
     ]
    },
    {
     "name": "stderr",
     "output_type": "stream",
     "text": [
      " 48%|██████████████████████████████████████▉                                          | 48/100 [00:09<00:11,  4.36it/s]"
     ]
    },
    {
     "name": "stdout",
     "output_type": "stream",
     "text": [
      "...47 tweets downloaded so far\n",
      "...48 tweets downloaded so far\n"
     ]
    },
    {
     "name": "stderr",
     "output_type": "stream",
     "text": [
      " 50%|████████████████████████████████████████▌                                        | 50/100 [00:09<00:09,  5.04it/s]"
     ]
    },
    {
     "name": "stdout",
     "output_type": "stream",
     "text": [
      "...49 tweets downloaded so far\n",
      "...50 tweets downloaded so far\n"
     ]
    },
    {
     "name": "stderr",
     "output_type": "stream",
     "text": [
      " 52%|██████████████████████████████████████████                                       | 52/100 [00:10<00:09,  5.02it/s]"
     ]
    },
    {
     "name": "stdout",
     "output_type": "stream",
     "text": [
      "...51 tweets downloaded so far\n",
      "...52 tweets downloaded so far\n"
     ]
    },
    {
     "name": "stderr",
     "output_type": "stream",
     "text": [
      " 54%|███████████████████████████████████████████▋                                     | 54/100 [00:10<00:08,  5.75it/s]"
     ]
    },
    {
     "name": "stdout",
     "output_type": "stream",
     "text": [
      "...53 tweets downloaded so far\n",
      "...54 tweets downloaded so far\n"
     ]
    },
    {
     "name": "stderr",
     "output_type": "stream",
     "text": [
      " 56%|█████████████████████████████████████████████▎                                   | 56/100 [00:11<00:08,  5.41it/s]"
     ]
    },
    {
     "name": "stdout",
     "output_type": "stream",
     "text": [
      "...55 tweets downloaded so far\n",
      "...56 tweets downloaded so far\n"
     ]
    },
    {
     "name": "stderr",
     "output_type": "stream",
     "text": [
      " 58%|██████████████████████████████████████████████▉                                  | 58/100 [00:11<00:07,  5.61it/s]"
     ]
    },
    {
     "name": "stdout",
     "output_type": "stream",
     "text": [
      "...57 tweets downloaded so far\n",
      "...58 tweets downloaded so far\n"
     ]
    },
    {
     "name": "stderr",
     "output_type": "stream",
     "text": [
      "\r",
      " 59%|███████████████████████████████████████████████▊                                 | 59/100 [00:11<00:07,  5.79it/s]"
     ]
    },
    {
     "name": "stdout",
     "output_type": "stream",
     "text": [
      "...59 tweets downloaded so far\n"
     ]
    },
    {
     "name": "stderr",
     "output_type": "stream",
     "text": [
      " 61%|█████████████████████████████████████████████████▍                               | 61/100 [00:11<00:07,  5.51it/s]"
     ]
    },
    {
     "name": "stdout",
     "output_type": "stream",
     "text": [
      "...60 tweets downloaded so far\n",
      "...61 tweets downloaded so far\n"
     ]
    },
    {
     "name": "stderr",
     "output_type": "stream",
     "text": [
      " 63%|███████████████████████████████████████████████████                              | 63/100 [00:12<00:06,  5.38it/s]"
     ]
    },
    {
     "name": "stdout",
     "output_type": "stream",
     "text": [
      "...62 tweets downloaded so far\n",
      "...63 tweets downloaded so far\n"
     ]
    },
    {
     "name": "stderr",
     "output_type": "stream",
     "text": [
      " 65%|████████████████████████████████████████████████████▋                            | 65/100 [00:12<00:06,  5.59it/s]"
     ]
    },
    {
     "name": "stdout",
     "output_type": "stream",
     "text": [
      "...64 tweets downloaded so far\n",
      "...65 tweets downloaded so far\n"
     ]
    },
    {
     "name": "stderr",
     "output_type": "stream",
     "text": [
      " 67%|██████████████████████████████████████████████████████▎                          | 67/100 [00:13<00:05,  5.67it/s]"
     ]
    },
    {
     "name": "stdout",
     "output_type": "stream",
     "text": [
      "...66 tweets downloaded so far\n",
      "...67 tweets downloaded so far\n"
     ]
    },
    {
     "name": "stderr",
     "output_type": "stream",
     "text": [
      " 69%|███████████████████████████████████████████████████████▉                         | 69/100 [00:13<00:05,  5.94it/s]"
     ]
    },
    {
     "name": "stdout",
     "output_type": "stream",
     "text": [
      "...68 tweets downloaded so far\n",
      "...69 tweets downloaded so far\n"
     ]
    },
    {
     "name": "stderr",
     "output_type": "stream",
     "text": [
      " 71%|█████████████████████████████████████████████████████████▌                       | 71/100 [00:13<00:04,  6.16it/s]"
     ]
    },
    {
     "name": "stdout",
     "output_type": "stream",
     "text": [
      "...70 tweets downloaded so far\n",
      "...71 tweets downloaded so far\n"
     ]
    },
    {
     "name": "stderr",
     "output_type": "stream",
     "text": [
      " 73%|███████████████████████████████████████████████████████████▏                     | 73/100 [00:14<00:04,  5.92it/s]"
     ]
    },
    {
     "name": "stdout",
     "output_type": "stream",
     "text": [
      "...72 tweets downloaded so far\n",
      "...73 tweets downloaded so far\n"
     ]
    },
    {
     "name": "stderr",
     "output_type": "stream",
     "text": [
      " 75%|████████████████████████████████████████████████████████████▊                    | 75/100 [00:14<00:04,  5.88it/s]"
     ]
    },
    {
     "name": "stdout",
     "output_type": "stream",
     "text": [
      "...74 tweets downloaded so far\n",
      "...75 tweets downloaded so far\n"
     ]
    },
    {
     "name": "stderr",
     "output_type": "stream",
     "text": [
      " 77%|██████████████████████████████████████████████████████████████▎                  | 77/100 [00:14<00:04,  5.68it/s]"
     ]
    },
    {
     "name": "stdout",
     "output_type": "stream",
     "text": [
      "...76 tweets downloaded so far\n",
      "...77 tweets downloaded so far\n"
     ]
    },
    {
     "name": "stderr",
     "output_type": "stream",
     "text": [
      " 79%|███████████████████████████████████████████████████████████████▉                 | 79/100 [00:15<00:03,  5.74it/s]"
     ]
    },
    {
     "name": "stdout",
     "output_type": "stream",
     "text": [
      "...78 tweets downloaded so far\n",
      "...79 tweets downloaded so far\n"
     ]
    },
    {
     "name": "stderr",
     "output_type": "stream",
     "text": [
      " 81%|█████████████████████████████████████████████████████████████████▌               | 81/100 [00:15<00:03,  6.03it/s]"
     ]
    },
    {
     "name": "stdout",
     "output_type": "stream",
     "text": [
      "...80 tweets downloaded so far\n",
      "...81 tweets downloaded so far\n"
     ]
    },
    {
     "name": "stderr",
     "output_type": "stream",
     "text": [
      " 83%|███████████████████████████████████████████████████████████████████▏             | 83/100 [00:15<00:02,  6.08it/s]"
     ]
    },
    {
     "name": "stdout",
     "output_type": "stream",
     "text": [
      "...82 tweets downloaded so far\n",
      "...83 tweets downloaded so far\n"
     ]
    },
    {
     "name": "stderr",
     "output_type": "stream",
     "text": [
      "\r",
      " 84%|████████████████████████████████████████████████████████████████████             | 84/100 [00:15<00:02,  5.98it/s]"
     ]
    },
    {
     "name": "stdout",
     "output_type": "stream",
     "text": [
      "...84 tweets downloaded so far\n"
     ]
    },
    {
     "name": "stderr",
     "output_type": "stream",
     "text": [
      " 86%|█████████████████████████████████████████████████████████████████████▋           | 86/100 [00:16<00:02,  5.71it/s]"
     ]
    },
    {
     "name": "stdout",
     "output_type": "stream",
     "text": [
      "...85 tweets downloaded so far\n",
      "...86 tweets downloaded so far\n"
     ]
    },
    {
     "name": "stderr",
     "output_type": "stream",
     "text": [
      " 88%|███████████████████████████████████████████████████████████████████████▎         | 88/100 [00:16<00:02,  5.65it/s]"
     ]
    },
    {
     "name": "stdout",
     "output_type": "stream",
     "text": [
      "...87 tweets downloaded so far\n",
      "...88 tweets downloaded so far\n"
     ]
    },
    {
     "name": "stderr",
     "output_type": "stream",
     "text": [
      " 90%|████████████████████████████████████████████████████████████████████████▉        | 90/100 [00:16<00:01,  5.86it/s]"
     ]
    },
    {
     "name": "stdout",
     "output_type": "stream",
     "text": [
      "...89 tweets downloaded so far\n",
      "...90 tweets downloaded so far\n"
     ]
    },
    {
     "name": "stderr",
     "output_type": "stream",
     "text": [
      " 92%|██████████████████████████████████████████████████████████████████████████▌      | 92/100 [00:17<00:01,  5.60it/s]"
     ]
    },
    {
     "name": "stdout",
     "output_type": "stream",
     "text": [
      "...91 tweets downloaded so far\n",
      "...92 tweets downloaded so far\n"
     ]
    },
    {
     "name": "stderr",
     "output_type": "stream",
     "text": [
      " 94%|████████████████████████████████████████████████████████████████████████████▏    | 94/100 [00:17<00:00,  6.26it/s]"
     ]
    },
    {
     "name": "stdout",
     "output_type": "stream",
     "text": [
      "...93 tweets downloaded so far\n",
      "...94 tweets downloaded so far\n"
     ]
    },
    {
     "name": "stderr",
     "output_type": "stream",
     "text": [
      " 96%|█████████████████████████████████████████████████████████████████████████████▊   | 96/100 [00:17<00:00,  6.42it/s]"
     ]
    },
    {
     "name": "stdout",
     "output_type": "stream",
     "text": [
      "...95 tweets downloaded so far\n",
      "...96 tweets downloaded so far\n"
     ]
    },
    {
     "name": "stderr",
     "output_type": "stream",
     "text": [
      " 98%|███████████████████████████████████████████████████████████████████████████████▍ | 98/100 [00:18<00:00,  5.99it/s]"
     ]
    },
    {
     "name": "stdout",
     "output_type": "stream",
     "text": [
      "...97 tweets downloaded so far\n",
      "...98 tweets downloaded so far\n"
     ]
    },
    {
     "name": "stderr",
     "output_type": "stream",
     "text": [
      "100%|████████████████████████████████████████████████████████████████████████████████| 100/100 [00:18<00:00,  5.38it/s]"
     ]
    },
    {
     "name": "stdout",
     "output_type": "stream",
     "text": [
      "...99 tweets downloaded so far\n",
      "...100 tweets downloaded so far\n"
     ]
    },
    {
     "name": "stderr",
     "output_type": "stream",
     "text": [
      "\n"
     ]
    }
   ],
   "source": [
    "# LABEL DATABASE SCRIPT\n",
    "\n",
    "def get_label_tweets(label_keywords, num_tweets=100, f_text=\"extended\", retweets=\"retweeted_status\"):\n",
    "\n",
    "    start_date = \"202111010900\"  # after the first moenth change to 02\n",
    "    end_date = \"202112010900\"  # change to 03 going all the way up until 12\n",
    "    api = tweepy.API(auth, wait_on_rate_limit=True)\n",
    "\n",
    "    fetch_label_tweets = api.search_full_archive(label=\"darin\", query=label_keywords, fromDate=start_date, toDate=end_date,\n",
    "                                                 maxResults=num_tweets)\n",
    "\n",
    "    bigram_phrases = ['Pfizer vaccine', 'Pfizer shot', 'Pfizer jab',\n",
    "                      'Pfizer’s vaccine', 'Pfizer boost', 'Pfizer jabs', 'Pfizer drug', 'Pfizer trail',\n",
    "                      '#Pfizer vaccine', 'Pfizer dose', '1st Pfizer', '2nd Pfizer']\n",
    "\n",
    "    trigram_phrases = ['Pfizer mRNA vaccine', 'Pfizer COVID vaccine', 'Pfizer trail data',\n",
    "                       'Pfizer Covid-19 vaccines',\n",
    "                       '1st Pfizer jab', '1st Pfizer shot', '2nd Pfizer jab', '2nd Pfizer shot', '1st Pfizer dose',\n",
    "                       '2nd Pfizer dose', 'Pfizer COVID jab', 'dose of Pfizer']\n",
    "\n",
    "    all_label_tweets = []\n",
    "    for i, tweet in enumerate(tqdm(fetch_label_tweets)):\n",
    "        # start_scrape = time.time()\n",
    "        status = api.get_status(tweet.id, tweet_mode=f_text)\n",
    "        if hasattr(status, retweets):\n",
    "\n",
    "            full_text = status.retweeted_status.full_text.lower()\n",
    "            retweet_username = tweet.retweeted_status.user.screen_name\n",
    "\n",
    "            nltk_tokens = nltk.word_tokenize(full_text)\n",
    "            bi_grams = nltk.ngrams(nltk_tokens, 2)\n",
    "            bigram_labels = [bigram for bigram in bi_grams]\n",
    "            concat_bigrams = [s1 + \" \" + s2 for s1, s2 in bigram_labels]\n",
    "\n",
    "            tri_grams = nltk.ngrams(nltk_tokens, 3)\n",
    "            trigram_labels = [trigram for trigram in tri_grams]\n",
    "            concat_trigrams = [s1 + \" \" + s2 + \" \" + s3 for s1, s2, s3 in trigram_labels]\n",
    "\n",
    "            label_bigrams = [lbl for lbl in concat_bigrams if lbl in bigram_phrases]\n",
    "            label_trigrams = [lbl for lbl in concat_trigrams if lbl in trigram_phrases]\n",
    "            new_labels = label_bigrams + label_trigrams\n",
    "\n",
    "            label_tweets = [tweet.user.screen_name, full_text, retweet_username, tweet.entities['hashtags'],\n",
    "                            tweet.created_at, tweet.user.followers_count, tweet.user.friends_count, new_labels]\n",
    "\n",
    "            all_label_tweets.append(label_tweets)\n",
    "        else:\n",
    "            full_text = status.full_text.lower()\n",
    "            nltk_tokens = nltk.word_tokenize(full_text)\n",
    "            bi_grams = nltk.ngrams(nltk_tokens, 2)\n",
    "            bigram_labels = [bigram for bigram in bi_grams]\n",
    "            concat_bigrams = [s1 + \" \" + s2 for s1, s2 in bigram_labels]\n",
    "\n",
    "            tri_grams = nltk.ngrams(nltk_tokens, 3)\n",
    "            trigram_labels = [trigram for trigram in tri_grams]\n",
    "            concat_trigrams = [s1 + \" \" + s2 + \" \" + s3 for s1, s2, s3 in trigram_labels]\n",
    "\n",
    "            label_bigrams = [lbl for lbl in concat_bigrams if lbl in bigram_phrases]\n",
    "            label_trigrams = [lbl for lbl in concat_trigrams if lbl in trigram_phrases]\n",
    "            new_labels = label_bigrams + label_trigrams\n",
    "\n",
    "            label_tweets = [tweet.user.screen_name, full_text, \"no retweet username\", tweet.entities['hashtags'],\n",
    "                           tweet.created_at, tweet.user.followers_count, tweet.user.friends_count, new_labels]\n",
    "            all_label_tweets.append(label_tweets)\n",
    "\n",
    "        print(\"...{} tweets downloaded so far\".format(len(all_label_tweets)))\n",
    "\n",
    "\n",
    "    #csv_timestamp = datetime.now().strftime(\"%m_%d_%Y\")\n",
    "    path = os.getcwd()\n",
    "    fname = path + '/' + '2020vaccinelabel.csv' # % csv_timestamp\n",
    "    with open(fname, 'a', encoding='utf-8') as secondcsv:\n",
    "        writer = csv.writer(secondcsv)\n",
    "        writer.writerow([\"username\", \"tweet\", \"username_of_retweeter\", \"hashtag\", \"tweet created\",\n",
    "                         \"number of followers\", \"# following\", \"label\"])\n",
    "        writer.writerows(all_label_tweets)\n",
    "\n",
    "\n",
    "if __name__ == \"__main__\":\n",
    "    l_keywords = \"PfizerBioNTech OR Pfizer OR Pfizervaccine OR PfizerProud OR PfizerBioN\"\n",
    "    get_label_tweets(l_keywords)\n",
    "\n",
    "# label_df = pd.read_csv(\"\", header=0)\n",
    "# print(label_df.label)\n",
    "# print(label_df.shape)\n",
    "# print(label_df.tweet[0])"
   ]
  },
  {
   "cell_type": "code",
   "execution_count": 26,
   "id": "a0b5b49d",
   "metadata": {
    "ExecuteTime": {
     "end_time": "2021-12-05T17:23:52.981713Z",
     "start_time": "2021-12-05T17:23:52.953235Z"
    }
   },
   "outputs": [
    {
     "name": "stdout",
     "output_type": "stream",
     "text": [
      "0       []\n",
      "1       []\n",
      "2       []\n",
      "3       []\n",
      "4       []\n",
      "        ..\n",
      "1105    []\n",
      "1106    []\n",
      "1107    []\n",
      "1108    []\n",
      "1109    []\n",
      "Name: label, Length: 1110, dtype: object\n",
      "(1110, 8)\n",
      "en israel los expertos locales informan que la vacuna se pfizer tienen mayor mortalidad que el covid. noticia vía le soir aquí en inglés https://t.co/h7zdfzcld5\n"
     ]
    }
   ],
   "source": [
    "label_df = pd.read_csv(\"2020vaccinelabel.csv\", header=0)\n",
    "print(label_df.label)\n",
    "print(label_df.shape)\n",
    "print(label_df.tweet[0])"
   ]
  },
  {
   "cell_type": "code",
   "execution_count": 27,
   "id": "79f2d968",
   "metadata": {
    "ExecuteTime": {
     "end_time": "2021-12-05T17:24:39.717752Z",
     "start_time": "2021-12-05T17:24:39.687686Z"
    }
   },
   "outputs": [
    {
     "name": "stdout",
     "output_type": "stream",
     "text": [
      "(1009, 7)\n",
      "b'coronavirus hoy, noticias en directo |  biontech-pfizer prometen hasta 75 millones de vacunas adicionales para la uni\\xc3\\xb3n europea https://t.co/pkf9ayygdv'\n"
     ]
    }
   ],
   "source": [
    "features_df = pd.read_csv(\"2020vaccine.csv\", header=0)\n",
    "print(features_df.shape)\n",
    "print(features_df.tweet[0])"
   ]
  },
  {
   "cell_type": "code",
   "execution_count": 28,
   "id": "d2e5124f",
   "metadata": {
    "ExecuteTime": {
     "end_time": "2021-12-05T17:24:51.065918Z",
     "start_time": "2021-12-05T17:24:51.027901Z"
    }
   },
   "outputs": [
    {
     "data": {
      "text/html": [
       "<div>\n",
       "<style scoped>\n",
       "    .dataframe tbody tr th:only-of-type {\n",
       "        vertical-align: middle;\n",
       "    }\n",
       "\n",
       "    .dataframe tbody tr th {\n",
       "        vertical-align: top;\n",
       "    }\n",
       "\n",
       "    .dataframe thead th {\n",
       "        text-align: right;\n",
       "    }\n",
       "</style>\n",
       "<table border=\"1\" class=\"dataframe\">\n",
       "  <thead>\n",
       "    <tr style=\"text-align: right;\">\n",
       "      <th></th>\n",
       "      <th>username</th>\n",
       "      <th>tweet</th>\n",
       "      <th>username_of_retweeter</th>\n",
       "      <th>hashtag</th>\n",
       "      <th>tweet created</th>\n",
       "      <th>number of followers</th>\n",
       "      <th># following</th>\n",
       "    </tr>\n",
       "  </thead>\n",
       "  <tbody>\n",
       "    <tr>\n",
       "      <th>0</th>\n",
       "      <td>manuelm70649483</td>\n",
       "      <td>b'coronavirus hoy, noticias en directo |  bion...</td>\n",
       "      <td>no retweet username</td>\n",
       "      <td>[]</td>\n",
       "      <td>2021-02-01 08:59:57+00:00</td>\n",
       "      <td>1560</td>\n",
       "      <td>1816</td>\n",
       "    </tr>\n",
       "    <tr>\n",
       "      <th>1</th>\n",
       "      <td>iordananutarus1</td>\n",
       "      <td>b'#mironews las eua (emergency use authorizati...</td>\n",
       "      <td>FLMIRONES</td>\n",
       "      <td>[{'text': 'MIRONEWS', 'indices': [15, 24]}]</td>\n",
       "      <td>2021-02-01 08:59:56+00:00</td>\n",
       "      <td>151</td>\n",
       "      <td>1146</td>\n",
       "    </tr>\n",
       "    <tr>\n",
       "      <th>2</th>\n",
       "      <td>stopik</td>\n",
       "      <td>b'izrael zaszczepi\\xc5\\x82 pierwsz\\xc4\\x85 daw...</td>\n",
       "      <td>Bob_Gedron</td>\n",
       "      <td>[]</td>\n",
       "      <td>2021-02-01 08:59:55+00:00</td>\n",
       "      <td>462</td>\n",
       "      <td>3009</td>\n",
       "    </tr>\n",
       "    <tr>\n",
       "      <th>3</th>\n",
       "      <td>PascalRtl</td>\n",
       "      <td>b'coronavirus: pfizer/biontech pr\\xc3\\xa9voit ...</td>\n",
       "      <td>no retweet username</td>\n",
       "      <td>[]</td>\n",
       "      <td>2021-02-01 08:59:53+00:00</td>\n",
       "      <td>10</td>\n",
       "      <td>0</td>\n",
       "    </tr>\n",
       "    <tr>\n",
       "      <th>4</th>\n",
       "      <td>luizvagu</td>\n",
       "      <td>b'#ahora \\nsagasti: \"hemos hecho gestiones par...</td>\n",
       "      <td>martinluma</td>\n",
       "      <td>[{'text': 'AHORA', 'indices': [16, 22]}]</td>\n",
       "      <td>2021-02-01 08:59:52+00:00</td>\n",
       "      <td>98</td>\n",
       "      <td>447</td>\n",
       "    </tr>\n",
       "  </tbody>\n",
       "</table>\n",
       "</div>"
      ],
      "text/plain": [
       "          username                                              tweet  \\\n",
       "0  manuelm70649483  b'coronavirus hoy, noticias en directo |  bion...   \n",
       "1  iordananutarus1  b'#mironews las eua (emergency use authorizati...   \n",
       "2           stopik  b'izrael zaszczepi\\xc5\\x82 pierwsz\\xc4\\x85 daw...   \n",
       "3        PascalRtl  b'coronavirus: pfizer/biontech pr\\xc3\\xa9voit ...   \n",
       "4         luizvagu  b'#ahora \\nsagasti: \"hemos hecho gestiones par...   \n",
       "\n",
       "  username_of_retweeter                                      hashtag  \\\n",
       "0   no retweet username                                           []   \n",
       "1             FLMIRONES  [{'text': 'MIRONEWS', 'indices': [15, 24]}]   \n",
       "2            Bob_Gedron                                           []   \n",
       "3   no retweet username                                           []   \n",
       "4            martinluma     [{'text': 'AHORA', 'indices': [16, 22]}]   \n",
       "\n",
       "               tweet created number of followers # following  \n",
       "0  2021-02-01 08:59:57+00:00                1560        1816  \n",
       "1  2021-02-01 08:59:56+00:00                 151        1146  \n",
       "2  2021-02-01 08:59:55+00:00                 462        3009  \n",
       "3  2021-02-01 08:59:53+00:00                  10           0  \n",
       "4  2021-02-01 08:59:52+00:00                  98         447  "
      ]
     },
     "execution_count": 28,
     "metadata": {},
     "output_type": "execute_result"
    }
   ],
   "source": [
    "features_df.head()"
   ]
  },
  {
   "cell_type": "code",
   "execution_count": 29,
   "id": "7fb7d289",
   "metadata": {
    "ExecuteTime": {
     "end_time": "2021-12-05T17:24:59.996495Z",
     "start_time": "2021-12-05T17:24:59.980538Z"
    },
    "scrolled": true
   },
   "outputs": [
    {
     "data": {
      "text/html": [
       "<div>\n",
       "<style scoped>\n",
       "    .dataframe tbody tr th:only-of-type {\n",
       "        vertical-align: middle;\n",
       "    }\n",
       "\n",
       "    .dataframe tbody tr th {\n",
       "        vertical-align: top;\n",
       "    }\n",
       "\n",
       "    .dataframe thead th {\n",
       "        text-align: right;\n",
       "    }\n",
       "</style>\n",
       "<table border=\"1\" class=\"dataframe\">\n",
       "  <thead>\n",
       "    <tr style=\"text-align: right;\">\n",
       "      <th></th>\n",
       "      <th>username</th>\n",
       "      <th>tweet</th>\n",
       "      <th>username_of_retweeter</th>\n",
       "      <th>hashtag</th>\n",
       "      <th>tweet created</th>\n",
       "      <th>number of followers</th>\n",
       "      <th># following</th>\n",
       "      <th>label</th>\n",
       "    </tr>\n",
       "  </thead>\n",
       "  <tbody>\n",
       "    <tr>\n",
       "      <th>0</th>\n",
       "      <td>puigdramon</td>\n",
       "      <td>en israel los expertos locales informan que la...</td>\n",
       "      <td>Oespinar1</td>\n",
       "      <td>[]</td>\n",
       "      <td>2021-03-01 08:59:59+00:00</td>\n",
       "      <td>290</td>\n",
       "      <td>926</td>\n",
       "      <td>[]</td>\n",
       "    </tr>\n",
       "    <tr>\n",
       "      <th>1</th>\n",
       "      <td>YawGyebi</td>\n",
       "      <td>the oxford-astrazeneca vaccine for covid-19 is...</td>\n",
       "      <td>ckgyimah</td>\n",
       "      <td>[]</td>\n",
       "      <td>2021-03-01 08:59:55+00:00</td>\n",
       "      <td>1387</td>\n",
       "      <td>1337</td>\n",
       "      <td>[]</td>\n",
       "    </tr>\n",
       "    <tr>\n",
       "      <th>2</th>\n",
       "      <td>chescaferrer25</td>\n",
       "      <td>none of us signed up for sinovac. we were prom...</td>\n",
       "      <td>BuffHufflepuff</td>\n",
       "      <td>[]</td>\n",
       "      <td>2021-03-01 08:59:49+00:00</td>\n",
       "      <td>575</td>\n",
       "      <td>561</td>\n",
       "      <td>[]</td>\n",
       "    </tr>\n",
       "    <tr>\n",
       "      <th>3</th>\n",
       "      <td>Humberto72</td>\n",
       "      <td>#thread sui vaccini #covid mooolto lungo:\\r\\n\\...</td>\n",
       "      <td>Linus2k</td>\n",
       "      <td>[{'text': 'Thread', 'indices': [13, 20]}, {'te...</td>\n",
       "      <td>2021-03-01 08:59:44+00:00</td>\n",
       "      <td>468</td>\n",
       "      <td>1485</td>\n",
       "      <td>[]</td>\n",
       "    </tr>\n",
       "    <tr>\n",
       "      <th>4</th>\n",
       "      <td>minxyminx1952</td>\n",
       "      <td>had 1st pfizer jab 2 weeks ago. no issues, exc...</td>\n",
       "      <td>no retweet username</td>\n",
       "      <td>[]</td>\n",
       "      <td>2021-03-01 08:59:44+00:00</td>\n",
       "      <td>4804</td>\n",
       "      <td>4218</td>\n",
       "      <td>[]</td>\n",
       "    </tr>\n",
       "    <tr>\n",
       "      <th>...</th>\n",
       "      <td>...</td>\n",
       "      <td>...</td>\n",
       "      <td>...</td>\n",
       "      <td>...</td>\n",
       "      <td>...</td>\n",
       "      <td>...</td>\n",
       "      <td>...</td>\n",
       "      <td>...</td>\n",
       "    </tr>\n",
       "    <tr>\n",
       "      <th>1105</th>\n",
       "      <td>aleveglio</td>\n",
       "      <td>lui è enrique ruiz, assessore alla sanità dell...</td>\n",
       "      <td>Anna54349379</td>\n",
       "      <td>[]</td>\n",
       "      <td>2021-12-01 08:58:30+00:00</td>\n",
       "      <td>31</td>\n",
       "      <td>153</td>\n",
       "      <td>[]</td>\n",
       "    </tr>\n",
       "    <tr>\n",
       "      <th>1106</th>\n",
       "      <td>sophora59</td>\n",
       "      <td>@virgilerichard3 @yvespdb heiko von der leyen ...</td>\n",
       "      <td>no retweet username</td>\n",
       "      <td>[]</td>\n",
       "      <td>2021-12-01 08:58:29+00:00</td>\n",
       "      <td>25</td>\n",
       "      <td>17</td>\n",
       "      <td>[]</td>\n",
       "    </tr>\n",
       "    <tr>\n",
       "      <th>1107</th>\n",
       "      <td>bugbugbugbug11</td>\n",
       "      <td>pfizer blocked marjorie taylor greene on twitt...</td>\n",
       "      <td>JDCocchiarella</td>\n",
       "      <td>[]</td>\n",
       "      <td>2021-12-01 08:58:25+00:00</td>\n",
       "      <td>7</td>\n",
       "      <td>145</td>\n",
       "      <td>[]</td>\n",
       "    </tr>\n",
       "    <tr>\n",
       "      <th>1108</th>\n",
       "      <td>Air2Aliah</td>\n",
       "      <td>@kingguyo @daniiiiv just know the vaccines are...</td>\n",
       "      <td>no retweet username</td>\n",
       "      <td>[]</td>\n",
       "      <td>2021-12-01 08:58:25+00:00</td>\n",
       "      <td>3</td>\n",
       "      <td>36</td>\n",
       "      <td>[]</td>\n",
       "    </tr>\n",
       "    <tr>\n",
       "      <th>1109</th>\n",
       "      <td>Alain52489059</td>\n",
       "      <td>alerte - des messages entre ursula von der ley...</td>\n",
       "      <td>zoomabus</td>\n",
       "      <td>[]</td>\n",
       "      <td>2021-12-01 08:58:22+00:00</td>\n",
       "      <td>70</td>\n",
       "      <td>32</td>\n",
       "      <td>[]</td>\n",
       "    </tr>\n",
       "  </tbody>\n",
       "</table>\n",
       "<p>1110 rows × 8 columns</p>\n",
       "</div>"
      ],
      "text/plain": [
       "            username                                              tweet  \\\n",
       "0         puigdramon  en israel los expertos locales informan que la...   \n",
       "1           YawGyebi  the oxford-astrazeneca vaccine for covid-19 is...   \n",
       "2     chescaferrer25  none of us signed up for sinovac. we were prom...   \n",
       "3         Humberto72  #thread sui vaccini #covid mooolto lungo:\\r\\n\\...   \n",
       "4      minxyminx1952  had 1st pfizer jab 2 weeks ago. no issues, exc...   \n",
       "...              ...                                                ...   \n",
       "1105       aleveglio  lui è enrique ruiz, assessore alla sanità dell...   \n",
       "1106       sophora59  @virgilerichard3 @yvespdb heiko von der leyen ...   \n",
       "1107  bugbugbugbug11  pfizer blocked marjorie taylor greene on twitt...   \n",
       "1108       Air2Aliah  @kingguyo @daniiiiv just know the vaccines are...   \n",
       "1109   Alain52489059  alerte - des messages entre ursula von der ley...   \n",
       "\n",
       "     username_of_retweeter                                            hashtag  \\\n",
       "0                Oespinar1                                                 []   \n",
       "1                 ckgyimah                                                 []   \n",
       "2           BuffHufflepuff                                                 []   \n",
       "3                  Linus2k  [{'text': 'Thread', 'indices': [13, 20]}, {'te...   \n",
       "4      no retweet username                                                 []   \n",
       "...                    ...                                                ...   \n",
       "1105          Anna54349379                                                 []   \n",
       "1106   no retweet username                                                 []   \n",
       "1107        JDCocchiarella                                                 []   \n",
       "1108   no retweet username                                                 []   \n",
       "1109              zoomabus                                                 []   \n",
       "\n",
       "                  tweet created number of followers # following label  \n",
       "0     2021-03-01 08:59:59+00:00                 290         926    []  \n",
       "1     2021-03-01 08:59:55+00:00                1387        1337    []  \n",
       "2     2021-03-01 08:59:49+00:00                 575         561    []  \n",
       "3     2021-03-01 08:59:44+00:00                 468        1485    []  \n",
       "4     2021-03-01 08:59:44+00:00                4804        4218    []  \n",
       "...                         ...                 ...         ...   ...  \n",
       "1105  2021-12-01 08:58:30+00:00                  31         153    []  \n",
       "1106  2021-12-01 08:58:29+00:00                  25          17    []  \n",
       "1107  2021-12-01 08:58:25+00:00                   7         145    []  \n",
       "1108  2021-12-01 08:58:25+00:00                   3          36    []  \n",
       "1109  2021-12-01 08:58:22+00:00                  70          32    []  \n",
       "\n",
       "[1110 rows x 8 columns]"
      ]
     },
     "execution_count": 29,
     "metadata": {},
     "output_type": "execute_result"
    }
   ],
   "source": [
    "label_df"
   ]
  },
  {
   "cell_type": "code",
   "execution_count": null,
   "id": "e80202ae",
   "metadata": {},
   "outputs": [],
   "source": []
  }
 ],
 "metadata": {
  "kernelspec": {
   "display_name": "Python 3",
   "language": "python",
   "name": "python3"
  },
  "language_info": {
   "codemirror_mode": {
    "name": "ipython",
    "version": 3
   },
   "file_extension": ".py",
   "mimetype": "text/x-python",
   "name": "python",
   "nbconvert_exporter": "python",
   "pygments_lexer": "ipython3",
   "version": "3.8.8"
  }
 },
 "nbformat": 4,
 "nbformat_minor": 5
}
